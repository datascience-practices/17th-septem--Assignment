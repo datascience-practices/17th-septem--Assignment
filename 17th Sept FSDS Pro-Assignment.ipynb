{
 "cells": [
  {
   "cell_type": "code",
   "execution_count": 1,
   "id": "fc8c67a6-5f18-48c5-8330-dcc3159572ff",
   "metadata": {},
   "outputs": [],
   "source": [
    "#For Loop"
   ]
  },
  {
   "cell_type": "markdown",
   "id": "d6afa320-0d69-448c-830d-8f893345fdd3",
   "metadata": {},
   "source": [
    "1. Write a Python program to print numbers from 1 to 10 using a for loop.\n"
   ]
  },
  {
   "cell_type": "code",
   "execution_count": 2,
   "id": "2973258f-6825-43e2-b70a-4af2f58458dc",
   "metadata": {},
   "outputs": [
    {
     "name": "stdout",
     "output_type": "stream",
     "text": [
      "1\n",
      "2\n",
      "3\n",
      "4\n",
      "5\n",
      "6\n",
      "7\n",
      "8\n",
      "9\n",
      "10\n"
     ]
    }
   ],
   "source": [
    "for i in range(1,11):  # using for loop iterating the range from 1 to 11\n",
    "    print(i)            # print the item "
   ]
  },
  {
   "cell_type": "markdown",
   "id": "739e5164-b012-4b37-a6b8-4d9cceac40b2",
   "metadata": {},
   "source": [
    "2. Explain the difference between a for loop and a while loop in Python.\n"
   ]
  },
  {
   "cell_type": "markdown",
   "id": "781dc94d-ea03-46a9-b7e8-584c0a0b2ee0",
   "metadata": {},
   "source": [
    "For Loop - 1)For loop is used to iterate over a sequence of items.\n",
    "           2)For loops are designed for iterating over a sequence of items. Eg. list, tuple, etc.\n",
    "           3)For loop require a sequence to iterate over.\n",
    "           4)For loop is typically used for iterating over a fixed sequence of items\n",
    "           5)For loop is more efficient than a while loop when iterating over sequences, since the number of iterations is                  predetermined and the loop can be optimized accordingly.\n",
    "           \n",
    "While Loop - 1)While loop is used to repeatedly execute a block of statements while a condition is true.\n",
    "             2)While loop is used when the number of iterations is not known in advance or when we want to repeat a block of                  code until a certain condition is met.\n",
    "             3)While the loop requires an initial condition that is tested at the beginning of the loop.\n",
    "             4)While loop is used for more complex control flow situations.\n",
    "             5)While a loop may be more efficient in certain situations where the condition being tested can be evaluated                    quickly.\n",
    "           "
   ]
  },
  {
   "cell_type": "markdown",
   "id": "aabd9a31-d5e1-4324-aac3-6d8c7cffcec4",
   "metadata": {},
   "source": [
    "3.Write a Python program to calculate the sum of all numbers from 1 to 100 using a for loop.\n"
   ]
  },
  {
   "cell_type": "code",
   "execution_count": 3,
   "id": "b985d614-efd6-4b43-b3a4-a5d6cd587dc8",
   "metadata": {},
   "outputs": [
    {
     "name": "stdout",
     "output_type": "stream",
     "text": [
      "The sum of all numbers from 1 to 100 is: 5050\n"
     ]
    }
   ],
   "source": [
    "# Initialize a variable to store the sum\n",
    "total_sum = 0\n",
    "\n",
    "# Use a for loop to iterate from 1 to 100\n",
    "for num in range(1, 101):\n",
    "    total_sum += num\n",
    "\n",
    "# Print the sum\n",
    "print(\"The sum of all numbers from 1 to 100 is:\", total_sum)\n"
   ]
  },
  {
   "cell_type": "markdown",
   "id": "ad21b30c-36ea-4970-b887-b658d5eefe83",
   "metadata": {},
   "source": [
    "4. How do you iterate through a list using a for loop in Python?\n"
   ]
  },
  {
   "cell_type": "markdown",
   "id": "0133da32-6888-438c-9319-5bfa4d2186bf",
   "metadata": {},
   "source": [
    "The for loop statement assigns an individual element of the list to the item variable in each iteration.\n",
    "  Inside the body of the loop, you can manipulate each list element individually.\n",
    "\n",
    "e.g. The following defines a list of cities and uses a for loop to iterate over the list:\n",
    "\n",
    "In this example, the for loop assigns an individual element of the cities list to the city variable and prints out the city in each iteration."
   ]
  },
  {
   "cell_type": "code",
   "execution_count": 4,
   "id": "12f9f471-9e30-44fe-ad74-3ed944578d50",
   "metadata": {},
   "outputs": [
    {
     "name": "stdout",
     "output_type": "stream",
     "text": [
      "New York\n",
      "Beijing\n",
      "Cairo\n",
      "Mumbai\n",
      "Mexico\n"
     ]
    }
   ],
   "source": [
    "cities = ['New York', 'Beijing', 'Cairo', 'Mumbai', 'Mexico']\n",
    "\n",
    "for city in cities:\n",
    "    print(city)"
   ]
  },
  {
   "cell_type": "markdown",
   "id": "84f8a813-aa6b-48c3-8f12-3f5a76ff1008",
   "metadata": {},
   "source": [
    "5. Write a Python program to find the product of all elements in a list using a for loop.# Define a list of numbers\n"
   ]
  },
  {
   "cell_type": "code",
   "execution_count": 5,
   "id": "70e27a74-8d82-432a-a191-6b8ee7bf7084",
   "metadata": {},
   "outputs": [
    {
     "name": "stdout",
     "output_type": "stream",
     "text": [
      "720\n"
     ]
    }
   ],
   "source": [
    "list1 = [1,2,3,4,5,6]   # Define a list of numbers\n",
    "prod = 1                # Initialize a variable to store the prod\n",
    "for i in list1:  # Use a for loop to calculate the product\n",
    "    prod *=i\n",
    "print(prod)   # Print the product\n",
    "    "
   ]
  },
  {
   "cell_type": "markdown",
   "id": "265715ff-5558-48a0-b6fa-1bb9176e9823",
   "metadata": {},
   "source": [
    "6. Create a Python program that prints all even numbers from 1 to 20 using a for loop.\n"
   ]
  },
  {
   "cell_type": "code",
   "execution_count": 6,
   "id": "b039db57-f3ef-466f-8976-a7f8a421deaf",
   "metadata": {},
   "outputs": [
    {
     "name": "stdout",
     "output_type": "stream",
     "text": [
      "[2, 4, 6, 8, 10, 12, 14, 16, 18, 20]\n"
     ]
    }
   ],
   "source": [
    "even = []\n",
    "for i in range(1,21):  # Use a for loop to iterate from 1 to 20\n",
    "    if i%2 == 0:        # Check if the current number is even\n",
    "        even.append(i)  # append all even number\n",
    "print(even)             # print all even number from 1 to 20\n",
    "        "
   ]
  },
  {
   "cell_type": "markdown",
   "id": "b2fe4257-4fd3-4243-8a27-ae2cb1a18ae8",
   "metadata": {},
   "source": [
    "7. Write a Python program that calculates the factorial of a number using a for loop.\n"
   ]
  },
  {
   "cell_type": "code",
   "execution_count": 7,
   "id": "b5865c0c-ccbf-4b6d-a7eb-12ea699dc75a",
   "metadata": {},
   "outputs": [
    {
     "name": "stdin",
     "output_type": "stream",
     "text": [
      "Enter a number:  9\n"
     ]
    },
    {
     "name": "stdout",
     "output_type": "stream",
     "text": [
      "The factorial of 9 is 362880\n"
     ]
    }
   ],
   "source": [
    "# Input: Get the number for which you want to calculate the factorial\n",
    "number = int(input(\"Enter a number: \"))\n",
    "\n",
    "# Initialize a variable to store the factorial\n",
    "factorial = 1\n",
    "\n",
    "# Use a for loop to calculate the factorial\n",
    "for i in range(1, number + 1):\n",
    "    factorial *= i\n",
    "\n",
    "# Print the factorial\n",
    "print(f\"The factorial of {number} is {factorial}\")\n"
   ]
  },
  {
   "cell_type": "markdown",
   "id": "43552015-c1e3-444f-b420-e36a09e9f95b",
   "metadata": {},
   "source": [
    "8. How can you iterate through the characters of a string using a for loop in Python?\n"
   ]
  },
  {
   "cell_type": "markdown",
   "id": "805d8c00-fef0-4d3d-9cfc-3abb4c0c4ab1",
   "metadata": {},
   "source": [
    "We can use for loop to iterate over a string and get each character of the string.\n",
    "Let’s take a string and iterate it using for loop, for every iteration to get each character presented in the string.\n",
    "e.g. of below:"
   ]
  },
  {
   "cell_type": "code",
   "execution_count": 8,
   "id": "1883e0a4-477d-45e1-b914-3ec386a5d260",
   "metadata": {},
   "outputs": [
    {
     "name": "stdout",
     "output_type": "stream",
     "text": [
      "K\n",
      "e\n",
      "t\n",
      "a\n",
      "k\n",
      "i\n",
      " \n",
      "U\n",
      "b\n",
      "a\n",
      "l\n",
      "e\n"
     ]
    }
   ],
   "source": [
    "string = \"Ketaki Ubale\"\n",
    "for i in string:\n",
    "    print(i)"
   ]
  },
  {
   "cell_type": "markdown",
   "id": "94b2fb99-cfa1-41bf-a579-821da10a2af5",
   "metadata": {},
   "source": [
    "9. Write a Python program to find the largest number in a list using a for loop.\n"
   ]
  },
  {
   "cell_type": "code",
   "execution_count": 9,
   "id": "40d5e312-db99-416c-884c-a6ad68cd982f",
   "metadata": {},
   "outputs": [
    {
     "name": "stdout",
     "output_type": "stream",
     "text": [
      "The largest number in the list is: 999\n"
     ]
    }
   ],
   "source": [
    "# Define a list of numbers\n",
    "my_list = [34, 56, 12, 89, 45, 67,999]\n",
    "\n",
    "# Initialize a variable to store the largest number\n",
    "largest_number = my_list[0]  # Assume the first number is the largest\n",
    "\n",
    "# Use a for loop to find the largest number\n",
    "for num in my_list:\n",
    "    if num > largest_number:\n",
    "        largest_number = num\n",
    "\n",
    "# Print the largest number\n",
    "print(\"The largest number in the list is:\", largest_number)\n"
   ]
  },
  {
   "cell_type": "markdown",
   "id": "35bfdff9-4f05-47fe-b8cc-d1c302db902f",
   "metadata": {},
   "source": [
    "10. Create a Python program that prints the Fibonacci sequence up to a specified limit using a for loop."
   ]
  },
  {
   "cell_type": "code",
   "execution_count": 10,
   "id": "47ebe76a-fefe-481b-8009-2f178cfbf019",
   "metadata": {},
   "outputs": [
    {
     "name": "stdin",
     "output_type": "stream",
     "text": [
      "Enter the limit for the Fibonacci sequence:  9\n"
     ]
    },
    {
     "name": "stdout",
     "output_type": "stream",
     "text": [
      "0\n",
      "1\n",
      "1\n",
      "2\n",
      "3\n",
      "5\n",
      "8\n",
      "13\n",
      "21\n"
     ]
    }
   ],
   "source": [
    "# Input: Get the limit from the user\n",
    "limit = int(input(\"Enter the limit for the Fibonacci sequence: \"))\n",
    "\n",
    "# Initialize the first two Fibonacci numbers\n",
    "fibonacci1 = 0\n",
    "fibonacci2 = 1\n",
    "\n",
    "# Print the first two Fibonacci numbers (0 and 1)\n",
    "print(fibonacci1)\n",
    "print(fibonacci2)\n",
    "\n",
    "# Use a for loop to generate and print the Fibonacci sequence\n",
    "for i in range(2, limit):\n",
    "    fibonacci_next = fibonacci1 + fibonacci2\n",
    "    print(fibonacci_next)\n",
    "    fibonacci1, fibonacci2 = fibonacci2, fibonacci_next\n"
   ]
  },
  {
   "cell_type": "markdown",
   "id": "fcc3eb1e-fcbd-4ee7-a34a-57477d320fba",
   "metadata": {},
   "source": [
    "11. Write a Python program to count the number of vowels in a given string using a for loop.\n"
   ]
  },
  {
   "cell_type": "code",
   "execution_count": 11,
   "id": "aaa89281-e910-41bd-aa94-2135557151a3",
   "metadata": {},
   "outputs": [
    {
     "name": "stdin",
     "output_type": "stream",
     "text": [
      "Enter a string:  hello world\n"
     ]
    },
    {
     "name": "stdout",
     "output_type": "stream",
     "text": [
      "Number of vowels in the string: 3\n"
     ]
    }
   ],
   "source": [
    "# Input: Get the string from the user\n",
    "input_string = input(\"Enter a string: \")\n",
    "\n",
    "# Convert the input string to lowercase (optional to count both uppercase and lowercase vowels)\n",
    "input_string = input_string.lower()\n",
    "\n",
    "# Initialize a variable to store the vowel count\n",
    "vowel_count = 0\n",
    "\n",
    "# Define a set of vowels\n",
    "vowels = {'a', 'e', 'i', 'o', 'u'}\n",
    "\n",
    "# Use a for loop to count the vowels in the string\n",
    "for char in input_string:\n",
    "    if char in vowels:\n",
    "        vowel_count += 1\n",
    "\n",
    "# Print the vowel count\n",
    "print(\"Number of vowels in the string:\", vowel_count)\n"
   ]
  },
  {
   "cell_type": "markdown",
   "id": "7a07a498-fef7-4e02-8e4e-05a203c86e33",
   "metadata": {},
   "source": [
    "12. Create a Python program that generates a multiplication table for a given number using a for loop.\n"
   ]
  },
  {
   "cell_type": "code",
   "execution_count": 12,
   "id": "b6c09834-f6e6-426a-b42c-fe792fba9e48",
   "metadata": {},
   "outputs": [
    {
     "name": "stdin",
     "output_type": "stream",
     "text": [
      "Enter a number:  7\n",
      "Enter the limit for the multiplication table:  8\n"
     ]
    },
    {
     "name": "stdout",
     "output_type": "stream",
     "text": [
      "Multiplication table for 7 up to 8:\n",
      "7 x 1 = 7\n",
      "7 x 2 = 14\n",
      "7 x 3 = 21\n",
      "7 x 4 = 28\n",
      "7 x 5 = 35\n",
      "7 x 6 = 42\n",
      "7 x 7 = 49\n",
      "7 x 8 = 56\n"
     ]
    }
   ],
   "source": [
    "# Input: Get the number for which you want to generate the multiplication table\n",
    "number = int(input(\"Enter a number: \"))\n",
    "\n",
    "# Input: Get the limit for the multiplication table\n",
    "limit = int(input(\"Enter the limit for the multiplication table: \"))\n",
    "\n",
    "# Use a for loop to generate and print the multiplication table\n",
    "print(f\"Multiplication table for {number} up to {limit}:\")\n",
    "for i in range(1, limit + 1):\n",
    "    result = number * i\n",
    "    print(f\"{number} x {i} = {result}\")\n"
   ]
  },
  {
   "cell_type": "markdown",
   "id": "0b702ac4-d696-47ec-ac4f-d27d040196e9",
   "metadata": {},
   "source": [
    "13.Write a Python program to reverse a list using a for loop."
   ]
  },
  {
   "cell_type": "code",
   "execution_count": 13,
   "id": "f81d08c1-035e-4c8c-abe0-8e864d154c9a",
   "metadata": {},
   "outputs": [
    {
     "name": "stdout",
     "output_type": "stream",
     "text": [
      "Original List: [1, 2, 3, 4, 5]\n",
      "Reversed List: [5, 4, 3, 2, 1]\n"
     ]
    }
   ],
   "source": [
    "def reverse_list(original_list):\n",
    "    reversed_list = []\n",
    "    for item in reversed(original_list):\n",
    "        reversed_list.append(item)\n",
    "    return reversed_list\n",
    "\n",
    "# Example usage:\n",
    "my_list = [1, 2, 3, 4, 5]\n",
    "reversed_result = reverse_list(my_list)\n",
    "\n",
    "print(\"Original List:\", my_list)\n",
    "print(\"Reversed List:\", reversed_result)\n"
   ]
  },
  {
   "cell_type": "markdown",
   "id": "04b54341-c9ac-4d5e-ba7c-67cf28df45b7",
   "metadata": {},
   "source": [
    "14.Write a Python program to find the common elements between two lists using a for loop.\n"
   ]
  },
  {
   "cell_type": "code",
   "execution_count": 16,
   "id": "0ab707c5-9d54-4a9c-9340-13a242bdde4f",
   "metadata": {},
   "outputs": [
    {
     "name": "stdout",
     "output_type": "stream",
     "text": [
      "List A: [1, 2, 3, 4, 5]\n",
      "List B: [3, 4, 5, 6, 7]\n",
      "Common Elements: [3, 4, 5]\n"
     ]
    }
   ],
   "source": [
    "def find_common_elements(list1, list2):\n",
    "    common_elements = []\n",
    "    for item in list1:\n",
    "        if item in list2:\n",
    "            common_elements.append(item)\n",
    "    return common_elements\n",
    "\n",
    "# Example usage:\n",
    "list1 = [1, 2, 3, 4, 5]\n",
    "list2 = [3, 4, 5, 6, 7]\n",
    "\n",
    "common_elements_result = find_common_elements(list1, list2)\n",
    "\n",
    "print(\"List A:\", list1)\n",
    "print(\"List B:\", list2)\n",
    "print(\"Common Elements:\", common_elements_result)\n"
   ]
  },
  {
   "cell_type": "markdown",
   "id": "19557d2e-0e16-4f49-91db-7b00fa0fb24b",
   "metadata": {},
   "source": [
    "15.Explain how to use a for loop to iterate through the keys and values of a dictionary in Python.\n"
   ]
  },
  {
   "cell_type": "markdown",
   "id": "cfaa0a98-a756-40ab-9f7a-329ba419cc13",
   "metadata": {},
   "source": [
    "In Python, to iterate through a dictionary ( dict ) with a for loop, use the keys() , values() , and items() methods. You can also get a list of all the keys and values in a dictionary using those methods and list() . "
   ]
  },
  {
   "cell_type": "markdown",
   "id": "b421c6e2-8eca-4447-b150-709f0b9814bf",
   "metadata": {},
   "source": [
    "Iterate through dictionary keys: keys()\n",
    "Iterate through dictionary values: values()\n",
    "Iterate through dictionary key-value pairs: items()"
   ]
  },
  {
   "cell_type": "code",
   "execution_count": 17,
   "id": "275597e3-cc67-4338-8940-38980815c4c0",
   "metadata": {},
   "outputs": [
    {
     "name": "stdout",
     "output_type": "stream",
     "text": [
      "key1\n",
      "key2\n",
      "key3\n",
      "['key1', 'key2', 'key3']\n",
      "<class 'list'>\n"
     ]
    }
   ],
   "source": [
    "d = {'key1': 1, 'key2': 2, 'key3': 3}\n",
    "for k in d:\n",
    "    print(k)\n",
    "\n",
    "print(list(d))\n",
    "\n",
    "print(type(list(d)))"
   ]
  },
  {
   "cell_type": "code",
   "execution_count": 18,
   "id": "2c18468e-d7a2-4d5a-bcb9-2a786628b535",
   "metadata": {},
   "outputs": [
    {
     "name": "stdout",
     "output_type": "stream",
     "text": [
      "key1\n",
      "key2\n",
      "key3\n"
     ]
    }
   ],
   "source": [
    "#Iterate through dictionary keys: keys()\n",
    "for k in d.keys():\n",
    "    print(k)"
   ]
  },
  {
   "cell_type": "code",
   "execution_count": null,
   "id": "48e969d2-fcc3-4b4b-8041-9ea828cbd952",
   "metadata": {},
   "outputs": [],
   "source": [
    "#Iterate through dictionary keys: values()\n",
    "for v in d.values():\n",
    "    print(v)"
   ]
  },
  {
   "cell_type": "markdown",
   "id": "f34487b1-32a0-453f-bbcc-3e51c25c7a0a",
   "metadata": {},
   "source": [
    "16.Write a Python program to find the GCD (Greatest Common Divisor) of two numbers using a for loop."
   ]
  },
  {
   "cell_type": "code",
   "execution_count": 19,
   "id": "aa1ddc6b-6811-43db-a5fd-37136bad3e5f",
   "metadata": {},
   "outputs": [
    {
     "name": "stdout",
     "output_type": "stream",
     "text": [
      "The GCD of 48 and 18 is 6\n"
     ]
    }
   ],
   "source": [
    "def find_gcd(x, y):\n",
    "    # Ensure x is greater than or equal to y\n",
    "    if y > x:\n",
    "        x, y = y, x\n",
    "\n",
    "    # Using the Euclidean algorithm to find GCD\n",
    "    for i in range(y, 0, -1):\n",
    "        if x % i == 0 and y % i == 0:\n",
    "            gcd = i\n",
    "            break\n",
    "\n",
    "    return gcd\n",
    "\n",
    "# Example usage\n",
    "num1 = 48\n",
    "num2 = 18\n",
    "\n",
    "result = find_gcd(num1, num2)\n",
    "print(f\"The GCD of {num1} and {num2} is {result}\")\n"
   ]
  },
  {
   "cell_type": "markdown",
   "id": "dbd1cad4-bc9c-4ee4-89d4-3f49cf06f2c1",
   "metadata": {},
   "source": [
    "17.Create a Python program that checks if a string is a palindrome using a for loop.\n"
   ]
  },
  {
   "cell_type": "code",
   "execution_count": null,
   "id": "90e81484-6fcb-4521-8d1e-e1d037d1ccba",
   "metadata": {},
   "outputs": [],
   "source": [
    "def is_palindrome(s):\n",
    "    # Convert the string to lowercase and remove spaces\n",
    "    s = s.lower().replace(\" \", \"\")\n",
    "\n",
    "    # Using a for loop to check if the string is a palindrome\n",
    "    for i in range(len(s) // 2):\n",
    "        if s[i] != s[len(s) - 1 - i]:\n",
    "            return False\n",
    "\n",
    "    return True\n",
    "\n",
    "# Example usage\n",
    "input_string = \"A man a plan a canal Panama\"\n",
    "if is_palindrome(input_string):\n",
    "    print(f\"{input_string} is a palindrome.\")\n",
    "else:\n",
    "    print(f\"{input_string} is not a palindrome.\")\n"
   ]
  },
  {
   "cell_type": "markdown",
   "id": "2fe0bdc4-8d01-47ca-b24f-2c887220ab2d",
   "metadata": {},
   "source": [
    "18.Write a Python program to remove duplicates from a list using a for loop.\n"
   ]
  },
  {
   "cell_type": "code",
   "execution_count": 20,
   "id": "a69f5954-1455-4c06-88a4-e241a7e46798",
   "metadata": {},
   "outputs": [
    {
     "name": "stdout",
     "output_type": "stream",
     "text": [
      "Original List: [1, 2, 2, 3, 4, 4, 5]\n",
      "List with Duplicates Removed: [1, 2, 3, 4, 5]\n"
     ]
    }
   ],
   "source": [
    "def remove_duplicates(input_list):\n",
    "    # Create an empty list to store unique elements\n",
    "    unique_list = []\n",
    "\n",
    "    # Iterate through the input list\n",
    "    for item in input_list:\n",
    "        # If the element is not already in the unique list, add it\n",
    "        if item not in unique_list:\n",
    "            unique_list.append(item)\n",
    "\n",
    "    return unique_list\n",
    "\n",
    "# Example usage\n",
    "original_list = [1, 2, 2, 3, 4, 4, 5]\n",
    "result_list = remove_duplicates(original_list)\n",
    "\n",
    "print(f\"Original List: {original_list}\")\n",
    "print(f\"List with Duplicates Removed: {result_list}\")\n"
   ]
  },
  {
   "cell_type": "markdown",
   "id": "6f576892-512a-4a44-a5b4-b43ce6c50426",
   "metadata": {},
   "source": [
    "19. Create a Python program that counts the number of words in a sentence using a for loop.\n"
   ]
  },
  {
   "cell_type": "code",
   "execution_count": 22,
   "id": "d8fb6b52-d2ce-43e5-950b-6a6aa4ace59a",
   "metadata": {},
   "outputs": [
    {
     "name": "stdin",
     "output_type": "stream",
     "text": [
      "Enter a sentence:  hello world\n"
     ]
    },
    {
     "name": "stdout",
     "output_type": "stream",
     "text": [
      "Number of words: 2\n"
     ]
    }
   ],
   "source": [
    "def count_words(sentence):\n",
    "    # Initialize a variable to store the word count\n",
    "    word_count = 0\n",
    "\n",
    "    # Iterate through each character in the sentence\n",
    "    for char in sentence:\n",
    "        # Check if the current character is a space\n",
    "        if char == ' ':\n",
    "            # Increment the word count\n",
    "            word_count += 1\n",
    "\n",
    "    # Increment the count for the last word (assuming the sentence doesn't end with a space)\n",
    "    word_count += 1\n",
    "\n",
    "    # Return the final word count\n",
    "    return word_count\n",
    "\n",
    "# Get input sentence from the user\n",
    "user_sentence = input(\"Enter a sentence: \")\n",
    "\n",
    "# Call the function and display the result\n",
    "result = count_words(user_sentence)\n",
    "print(f\"Number of words: {result}\")\n"
   ]
  },
  {
   "cell_type": "markdown",
   "id": "f2386bc9-177a-49ad-b639-0f27b1dcf851",
   "metadata": {},
   "source": [
    "20. Write a Python program to find the sum of all odd numbers from 1 to 50 using a for loop.\n"
   ]
  },
  {
   "cell_type": "code",
   "execution_count": 23,
   "id": "ab1f7e1e-4e7f-4fa5-aac9-80bc0e976d20",
   "metadata": {},
   "outputs": [
    {
     "name": "stdout",
     "output_type": "stream",
     "text": [
      "The sum of all odd numbers from 1 to 50 is: 625\n"
     ]
    }
   ],
   "source": [
    "# Initialize a variable to store the sum\n",
    "sum_of_odds = 0\n",
    "\n",
    "# Iterate through numbers from 1 to 50 with a step of 2 (to get odd numbers)\n",
    "for num in range(1, 51, 2):\n",
    "    # Add the current odd number to the sum\n",
    "    sum_of_odds += num\n",
    "\n",
    "# Display the result\n",
    "print(f\"The sum of all odd numbers from 1 to 50 is: {sum_of_odds}\")\n"
   ]
  },
  {
   "cell_type": "markdown",
   "id": "72959172-806d-4fa4-9eff-e02b82f5c219",
   "metadata": {},
   "source": [
    "21. Write a Python program that checks if a given year is a leap year using a for loop.\n"
   ]
  },
  {
   "cell_type": "code",
   "execution_count": 24,
   "id": "02aa8664-88ee-4e23-bc1a-86b4c835115d",
   "metadata": {},
   "outputs": [
    {
     "name": "stdin",
     "output_type": "stream",
     "text": [
      "Enter a year:  2023\n"
     ]
    },
    {
     "name": "stdout",
     "output_type": "stream",
     "text": [
      "2023 is not a leap year.\n"
     ]
    }
   ],
   "source": [
    "def is_leap_year(year):\n",
    "    # Check if the year is divisible by 4\n",
    "    if year % 4 == 0:\n",
    "        # If the year is divisible by 100, check if it's also divisible by 400\n",
    "        if year % 100 == 0:\n",
    "            return year % 400 == 0\n",
    "        else:\n",
    "            return True\n",
    "    else:\n",
    "        return False\n",
    "\n",
    "# Get input year from the user\n",
    "user_year = int(input(\"Enter a year: \"))\n",
    "\n",
    "# Check if the year is a leap year and display the result\n",
    "if is_leap_year(user_year):\n",
    "    print(f\"{user_year} is a leap year.\")\n",
    "else:\n",
    "    print(f\"{user_year} is not a leap year.\")\n"
   ]
  },
  {
   "cell_type": "markdown",
   "id": "bb473bfa-1b1c-4f0e-b741-0a22fc9af4ba",
   "metadata": {},
   "source": [
    "22. Create a Python program that calculates the square root of a number using a for loop.\n"
   ]
  },
  {
   "cell_type": "code",
   "execution_count": 25,
   "id": "89f19e1a-061f-4e56-9231-53d212908792",
   "metadata": {},
   "outputs": [
    {
     "name": "stdin",
     "output_type": "stream",
     "text": [
      "Enter a number:  77\n"
     ]
    },
    {
     "name": "stdout",
     "output_type": "stream",
     "text": [
      "The square root of 77.0 is approximately: 8.774964387394348\n"
     ]
    }
   ],
   "source": [
    "def square_root(number, epsilon=1e-6, max_iterations=100):\n",
    "    # Ensure the number is non-negative\n",
    "    if number < 0:\n",
    "        raise ValueError(\"Cannot calculate square root of a negative number\")\n",
    "\n",
    "    # Initial guess for the square root\n",
    "    guess = number / 2.0\n",
    "\n",
    "    # Iterate using the Babylonian method\n",
    "    for _ in range(max_iterations):\n",
    "        # Update the guess using the formula: new_guess = 0.5 * (guess + number / guess)\n",
    "        new_guess = 0.5 * (guess + number / guess)\n",
    "\n",
    "        # Check if the difference between consecutive guesses is within the tolerance (epsilon)\n",
    "        if abs(new_guess * new_guess - number) < epsilon:\n",
    "            return new_guess  # Return the approximation if it meets the tolerance\n",
    "\n",
    "        # Update the guess for the next iteration\n",
    "        guess = new_guess\n",
    "\n",
    "    # If max_iterations are reached and tolerance is not met, return the last approximation\n",
    "    return guess\n",
    "\n",
    "# Get input number from the user\n",
    "user_number = float(input(\"Enter a number: \"))\n",
    "\n",
    "# Call the function and display the result\n",
    "result = square_root(user_number)\n",
    "print(f\"The square root of {user_number} is approximately: {result}\")\n"
   ]
  },
  {
   "cell_type": "markdown",
   "id": "68bf16d0-7d21-4544-bcd2-1151e5e6a52b",
   "metadata": {},
   "source": [
    "23. Write a Python program to find the LCM (Least Common Multiple) of two numbers using a for loop.\n"
   ]
  },
  {
   "cell_type": "code",
   "execution_count": 26,
   "id": "4b08b4fc-c7ff-48c5-bcbf-e4ef98c4905c",
   "metadata": {},
   "outputs": [
    {
     "name": "stdin",
     "output_type": "stream",
     "text": [
      "Enter the first number:  7\n",
      "Enter the second number:  8\n"
     ]
    },
    {
     "name": "stdout",
     "output_type": "stream",
     "text": [
      "The LCM of 7 and 8 is: 56\n"
     ]
    }
   ],
   "source": [
    "def find_gcd(x, y):\n",
    "    while y:\n",
    "        x, y = y, x % y\n",
    "    return x\n",
    "\n",
    "def find_lcm(a, b):\n",
    "    # Ensure that both numbers are non-zero\n",
    "    if a == 0 or b == 0:\n",
    "        raise ValueError(\"Both numbers must be non-zero.\")\n",
    "\n",
    "    # Calculate the LCM using the formula LCM(a, b) = |a * b| / GCD(a, b)\n",
    "    gcd = find_gcd(a, b)\n",
    "    lcm = abs(a * b) // gcd\n",
    "\n",
    "    return lcm\n",
    "\n",
    "# Get input numbers from the user\n",
    "num1 = int(input(\"Enter the first number: \"))\n",
    "num2 = int(input(\"Enter the second number: \"))\n",
    "\n",
    "# Call the function and display the result\n",
    "lcm_result = find_lcm(num1, num2)\n",
    "print(f\"The LCM of {num1} and {num2} is: {lcm_result}\")\n"
   ]
  },
  {
   "cell_type": "markdown",
   "id": "f8991fc8-f6a0-41c3-98a8-22177218c24f",
   "metadata": {},
   "source": [
    "If else :\n",
    "1. Write a Python program to check if a number is positive, negative, or zero using an if-else statement.\n"
   ]
  },
  {
   "cell_type": "code",
   "execution_count": 27,
   "id": "0514f2a9-5be5-4814-9038-310ac95cf9dc",
   "metadata": {},
   "outputs": [
    {
     "name": "stdin",
     "output_type": "stream",
     "text": [
      "Enter a number:  5\n"
     ]
    },
    {
     "name": "stdout",
     "output_type": "stream",
     "text": [
      "The entered number is positive.\n"
     ]
    }
   ],
   "source": [
    "# Get input number from the user\n",
    "user_number = float(input(\"Enter a number: \"))\n",
    "\n",
    "# Check if the number is positive, negative, or zero\n",
    "if user_number > 0:\n",
    "    print(\"The entered number is positive.\")\n",
    "elif user_number < 0:\n",
    "    print(\"The entered number is negative.\")\n",
    "else:\n",
    "    print(\"The entered number is zero.\")\n"
   ]
  },
  {
   "cell_type": "markdown",
   "id": "3b1e7998-4e63-41a8-983d-d9f77c31eb38",
   "metadata": {},
   "source": [
    "2. Create a Python program that checks if a given number is even or odd using an if-else statement.\n"
   ]
  },
  {
   "cell_type": "code",
   "execution_count": 28,
   "id": "ea8a0f93-40a3-4197-b532-7d00ffcd6ee6",
   "metadata": {},
   "outputs": [
    {
     "name": "stdin",
     "output_type": "stream",
     "text": [
      "Enter a number:  8\n"
     ]
    },
    {
     "name": "stdout",
     "output_type": "stream",
     "text": [
      "The entered number 8 is even.\n"
     ]
    }
   ],
   "source": [
    "# Get input number from the user\n",
    "user_number = int(input(\"Enter a number: \"))\n",
    "\n",
    "# Check if the number is even or odd\n",
    "if user_number % 2 == 0:\n",
    "    print(f\"The entered number {user_number} is even.\")\n",
    "else:\n",
    "    print(f\"The entered number {user_number} is odd.\")\n"
   ]
  },
  {
   "cell_type": "markdown",
   "id": "37944bb8-8998-4151-a835-2d0a71e51635",
   "metadata": {},
   "source": [
    "3. How can you use nested if-else statements in Python, and provide an example?\n"
   ]
  },
  {
   "cell_type": "markdown",
   "id": "e054d3b7-3007-4fdd-a29f-38efcf4390a4",
   "metadata": {},
   "source": [
    "Nested if-else statements in Python allow you to include one if-else statement inside another. This is useful when you need to check multiple conditions in a hierarchical manner. Each level of the nesting represents a different condition or set of conditions."
   ]
  },
  {
   "cell_type": "code",
   "execution_count": 29,
   "id": "5fbebaac-10cd-4950-9e99-413e339032b5",
   "metadata": {},
   "outputs": [
    {
     "name": "stdin",
     "output_type": "stream",
     "text": [
      "Enter your age:  56\n"
     ]
    },
    {
     "name": "stdout",
     "output_type": "stream",
     "text": [
      "You are eligible for voting.\n",
      "You are also eligible for purchasing alcohol.\n",
      "You can rent a car.\n"
     ]
    }
   ],
   "source": [
    "# Get input age from the user\n",
    "user_age = int(input(\"Enter your age: \"))\n",
    "\n",
    "# Check if the person is eligible for different activities based on age\n",
    "if user_age >= 18:\n",
    "    print(\"You are eligible for voting.\")\n",
    "    \n",
    "    if user_age >= 21:\n",
    "        print(\"You are also eligible for purchasing alcohol.\")\n",
    "        \n",
    "        if user_age >= 25:\n",
    "            print(\"You can rent a car.\")\n",
    "        else:\n",
    "            print(\"You cannot rent a car yet.\")\n",
    "            \n",
    "    else:\n",
    "        print(\"You cannot purchase alcohol.\")\n",
    "        \n",
    "else:\n",
    "    print(\"You are not eligible for voting or purchasing alcohol.\")\n"
   ]
  },
  {
   "cell_type": "markdown",
   "id": "729a2678-d9a7-4397-997d-da403ed8d247",
   "metadata": {},
   "source": [
    "4. Write a Python program to determine the largest of three numbers using if-else.\n"
   ]
  },
  {
   "cell_type": "code",
   "execution_count": 30,
   "id": "98a7cf08-6651-4128-8f6c-50f85d968e5b",
   "metadata": {},
   "outputs": [
    {
     "name": "stdin",
     "output_type": "stream",
     "text": [
      "Enter the first number:  8\n",
      "Enter the second number:  9\n",
      "Enter the third number:  5\n"
     ]
    },
    {
     "name": "stdout",
     "output_type": "stream",
     "text": [
      "The largest number among 8.0, 9.0, and 5.0 is: 9.0\n"
     ]
    }
   ],
   "source": [
    "# Get input numbers from the user\n",
    "num1 = float(input(\"Enter the first number: \"))\n",
    "num2 = float(input(\"Enter the second number: \"))\n",
    "num3 = float(input(\"Enter the third number: \"))\n",
    "\n",
    "# Compare the numbers to find the largest\n",
    "if num1 >= num2 and num1 >= num3:\n",
    "    largest = num1\n",
    "elif num2 >= num1 and num2 >= num3:\n",
    "    largest = num2\n",
    "else:\n",
    "    largest = num3\n",
    "\n",
    "# Display the result\n",
    "print(f\"The largest number among {num1}, {num2}, and {num3} is: {largest}\")\n"
   ]
  },
  {
   "cell_type": "markdown",
   "id": "afbd5dfc-ea3e-48d9-bb9c-2aa6a155f93f",
   "metadata": {},
   "source": [
    "5. Write a Python program that calculates the absolute value of a number using if-else.\n"
   ]
  },
  {
   "cell_type": "code",
   "execution_count": 31,
   "id": "5d9d1f58-2368-4349-bc67-d5fce21c0ae5",
   "metadata": {},
   "outputs": [
    {
     "name": "stdin",
     "output_type": "stream",
     "text": [
      "Enter a number:  99\n"
     ]
    },
    {
     "name": "stdout",
     "output_type": "stream",
     "text": [
      "The absolute value of 99.0 is: 99.0\n"
     ]
    }
   ],
   "source": [
    "# Get input number from the user\n",
    "user_number = float(input(\"Enter a number: \"))\n",
    "\n",
    "# Calculate the absolute value using if-else\n",
    "if user_number >= 0:\n",
    "    absolute_value = user_number\n",
    "else:\n",
    "    absolute_value = -user_number\n",
    "\n",
    "# Display the result\n",
    "print(f\"The absolute value of {user_number} is: {absolute_value}\")\n"
   ]
  },
  {
   "cell_type": "markdown",
   "id": "494f448e-a6ff-44dd-b04e-783c9d4e558c",
   "metadata": {},
   "source": [
    "6. Create a Python program that checks if a given character is a vowel or consonant using if-else."
   ]
  },
  {
   "cell_type": "code",
   "execution_count": 32,
   "id": "8dbb63be-ab20-4d04-bbe0-092c2f92a7ba",
   "metadata": {},
   "outputs": [
    {
     "name": "stdin",
     "output_type": "stream",
     "text": [
      "Enter a single character:  k\n"
     ]
    },
    {
     "name": "stdout",
     "output_type": "stream",
     "text": [
      "The character 'k' is a consonant.\n"
     ]
    }
   ],
   "source": [
    "# Get input character from the user\n",
    "user_char = input(\"Enter a single character: \")\n",
    "\n",
    "# Ensure that the input is a single character\n",
    "if len(user_char) == 1:\n",
    "    # Convert the input character to lowercase for case-insensitivity\n",
    "    user_char = user_char.lower()\n",
    "\n",
    "    # Check if the character is a vowel or consonant using if-else\n",
    "    if user_char in ['a', 'e', 'i', 'o', 'u']:\n",
    "        print(f\"The character '{user_char}' is a vowel.\")\n",
    "    else:\n",
    "        print(f\"The character '{user_char}' is a consonant.\")\n",
    "else:\n",
    "    print(\"Please enter a single character.\")\n"
   ]
  },
  {
   "cell_type": "markdown",
   "id": "20f3c57f-c3d3-4f64-936d-daf850a9a7c9",
   "metadata": {},
   "source": [
    "7. Write a Python program to determine if a user is eligible to vote based on their age using if-else.\n"
   ]
  },
  {
   "cell_type": "code",
   "execution_count": 33,
   "id": "71e7410e-b6ae-4bf3-88f8-a4ec92e6bf1d",
   "metadata": {},
   "outputs": [
    {
     "name": "stdin",
     "output_type": "stream",
     "text": [
      "Enter your age:  76\n"
     ]
    },
    {
     "name": "stdout",
     "output_type": "stream",
     "text": [
      "You are eligible to vote.\n"
     ]
    }
   ],
   "source": [
    "# Get input age from the user\n",
    "user_age = int(input(\"Enter your age: \"))\n",
    "\n",
    "# Check if the user is eligible to vote using if-else\n",
    "voting_age = 18\n",
    "if user_age >= voting_age:\n",
    "    print(\"You are eligible to vote.\")\n",
    "else:\n",
    "    print(\"You are not eligible to vote yet.\")\n"
   ]
  },
  {
   "cell_type": "markdown",
   "id": "7d7a8249-e1f3-4a68-b7a8-17b2aeb333e5",
   "metadata": {},
   "source": [
    "8. Create a Python program that calculates the discount amount based on the purchase amount using if-else.\n"
   ]
  },
  {
   "cell_type": "code",
   "execution_count": 34,
   "id": "20e22bdb-c569-4d99-b62a-52e95aa985b5",
   "metadata": {},
   "outputs": [
    {
     "name": "stdin",
     "output_type": "stream",
     "text": [
      "Enter the purchase amount:  7000\n"
     ]
    },
    {
     "name": "stdout",
     "output_type": "stream",
     "text": [
      "Original Price: $7000.00\n",
      "Discount Category: 10%\n",
      "Discount Amount: $700.00\n",
      "Discounted Price: $6300.00\n"
     ]
    }
   ],
   "source": [
    "# Get input purchase amount from the user\n",
    "purchase_amount = float(input(\"Enter the purchase amount: \"))\n",
    "\n",
    "# Define discount thresholds\n",
    "discount_threshold_1 = 100.0\n",
    "discount_threshold_2 = 500.0\n",
    "\n",
    "# Define discount rates\n",
    "discount_rate_1 = 0.05  # 5% discount for purchases over $100\n",
    "discount_rate_2 = 0.10  # 10% discount for purchases over $500\n",
    "\n",
    "# Calculate discount based on if-else statements\n",
    "if purchase_amount >= discount_threshold_2:\n",
    "    discount_amount = purchase_amount * discount_rate_2\n",
    "    discount_category = \"10%\"\n",
    "elif purchase_amount >= discount_threshold_1:\n",
    "    discount_amount = purchase_amount * discount_rate_1\n",
    "    discount_category = \"5%\"\n",
    "else:\n",
    "    discount_amount = 0.0\n",
    "    discount_category = \"No discount\"\n",
    "\n",
    "# Calculate the discounted price\n",
    "discounted_price = purchase_amount - discount_amount\n",
    "\n",
    "# Display the result\n",
    "print(f\"Original Price: ${purchase_amount:.2f}\")\n",
    "print(f\"Discount Category: {discount_category}\")\n",
    "print(f\"Discount Amount: ${discount_amount:.2f}\")\n",
    "print(f\"Discounted Price: ${discounted_price:.2f}\")\n"
   ]
  },
  {
   "cell_type": "markdown",
   "id": "44967767-e1d8-4f2f-bc60-bb7301610895",
   "metadata": {},
   "source": [
    "9. Write a Python program to check if a number is within a specified range using if-else.\n"
   ]
  },
  {
   "cell_type": "code",
   "execution_count": 35,
   "id": "adc8b951-b97d-44a2-a927-8ffb2345c233",
   "metadata": {},
   "outputs": [
    {
     "name": "stdin",
     "output_type": "stream",
     "text": [
      "Enter a number:  88\n"
     ]
    },
    {
     "name": "stdout",
     "output_type": "stream",
     "text": [
      "The number 88.0 is outside the specified range.\n"
     ]
    }
   ],
   "source": [
    "# Define the specified range\n",
    "lower_limit = 10\n",
    "upper_limit = 50\n",
    "\n",
    "# Get input number from the user\n",
    "user_number = float(input(\"Enter a number: \"))\n",
    "\n",
    "# Check if the number is within the specified range using if-else\n",
    "if lower_limit <= user_number <= upper_limit:\n",
    "    print(f\"The number {user_number} is within the specified range.\")\n",
    "else:\n",
    "    print(f\"The number {user_number} is outside the specified range.\")\n"
   ]
  },
  {
   "cell_type": "markdown",
   "id": "e047830b-6c99-4467-afa2-597e2d6f0e51",
   "metadata": {},
   "source": [
    "10. Create a Python program that determines the grade of a student based on their score using if-else."
   ]
  },
  {
   "cell_type": "code",
   "execution_count": 36,
   "id": "7614712c-afeb-4e46-a8d8-ddd6980a34b4",
   "metadata": {},
   "outputs": [
    {
     "name": "stdin",
     "output_type": "stream",
     "text": [
      "Enter the student's score:  80\n"
     ]
    },
    {
     "name": "stdout",
     "output_type": "stream",
     "text": [
      "The student's grade is: B\n"
     ]
    }
   ],
   "source": [
    "# Get input score from the user\n",
    "score = float(input(\"Enter the student's score: \"))\n",
    "\n",
    "# Determine the grade based on if-else statements\n",
    "if 90 <= score <= 100:\n",
    "    grade = 'A'\n",
    "elif 80 <= score < 90:\n",
    "    grade = 'B'\n",
    "elif 70 <= score < 80:\n",
    "    grade = 'C'\n",
    "elif 60 <= score < 70:\n",
    "    grade = 'D'\n",
    "elif 0 <= score < 60:\n",
    "    grade = 'F'\n",
    "else:\n",
    "    grade = 'Invalid score (score should be between 0 and 100)'\n",
    "\n",
    "# Display the result\n",
    "print(f\"The student's grade is: {grade}\")\n"
   ]
  },
  {
   "cell_type": "markdown",
   "id": "be9f166e-205b-4002-9e8c-6a82d4210703",
   "metadata": {},
   "source": [
    "11. Write a Python program to check if a string is empty or not using if-else.\n"
   ]
  },
  {
   "cell_type": "code",
   "execution_count": 37,
   "id": "a272f96d-e8e0-48fa-ace2-d163de6340c4",
   "metadata": {},
   "outputs": [
    {
     "name": "stdin",
     "output_type": "stream",
     "text": [
      "Enter a string:  hello world\n"
     ]
    },
    {
     "name": "stdout",
     "output_type": "stream",
     "text": [
      "The string is not empty.\n"
     ]
    }
   ],
   "source": [
    "# Get input string from the user\n",
    "user_input = input(\"Enter a string: \")\n",
    "\n",
    "# Check if the string is empty using if-else\n",
    "if not user_input:  # This condition checks if the string is empty\n",
    "    print(\"The string is empty.\")\n",
    "else:\n",
    "    print(\"The string is not empty.\")\n"
   ]
  },
  {
   "cell_type": "markdown",
   "id": "af4dfd56-5b6d-454c-b066-c60fa5811012",
   "metadata": {},
   "source": [
    "12.Create a Python program that identifies the type of a triangle (e.g., equilateral, isosceles, or scalene) based on input values using if-else.\n"
   ]
  },
  {
   "cell_type": "code",
   "execution_count": 39,
   "id": "9fcbed44-c501-4b5c-8eaf-e999f43bcee4",
   "metadata": {},
   "outputs": [
    {
     "name": "stdin",
     "output_type": "stream",
     "text": [
      "Enter the length of side a:  7\n",
      "Enter the length of side b:  8\n",
      "Enter the length of side c:  6\n"
     ]
    },
    {
     "name": "stdout",
     "output_type": "stream",
     "text": [
      "The triangle is a Scalene triangle.\n"
     ]
    }
   ],
   "source": [
    "# Get input side lengths from the user\n",
    "side_a = float(input(\"Enter the length of side a: \"))\n",
    "side_b = float(input(\"Enter the length of side b: \"))\n",
    "side_c = float(input(\"Enter the length of side c: \"))\n",
    "\n",
    "# Check the type of triangle using if-else statements\n",
    "if side_a == side_b == side_c:\n",
    "    triangle_type = \"Equilateral\"\n",
    "elif side_a == side_b or side_a == side_c or side_b == side_c:\n",
    "    triangle_type = \"Isosceles\"\n",
    "else:\n",
    "    triangle_type = \"Scalene\"\n",
    "\n",
    "# Display the result\n",
    "print(f\"The triangle is a {triangle_type} triangle.\")\n"
   ]
  },
  {
   "cell_type": "markdown",
   "id": "41b74a5a-108a-44ea-bd09-abfc849d4408",
   "metadata": {},
   "source": [
    "13.Write a Python program to determine the day of the week based on a user-provided number using if-else."
   ]
  },
  {
   "cell_type": "code",
   "execution_count": 40,
   "id": "f9427c61-6124-4bc6-ad19-553be7d2bd32",
   "metadata": {},
   "outputs": [
    {
     "name": "stdin",
     "output_type": "stream",
     "text": [
      "Enter a number (1-7) representing the day of the week:  7\n"
     ]
    },
    {
     "name": "stdout",
     "output_type": "stream",
     "text": [
      "The day corresponding to the number 7 is: Sunday\n"
     ]
    }
   ],
   "source": [
    "# Get input day number from the user\n",
    "day_number = int(input(\"Enter a number (1-7) representing the day of the week: \"))\n",
    "\n",
    "# Determine the day of the week using if-else statements\n",
    "if day_number == 1:\n",
    "    day_name = \"Monday\"\n",
    "elif day_number == 2:\n",
    "    day_name = \"Tuesday\"\n",
    "elif day_number == 3:\n",
    "    day_name = \"Wednesday\"\n",
    "elif day_number == 4:\n",
    "    day_name = \"Thursday\"\n",
    "elif day_number == 5:\n",
    "    day_name = \"Friday\"\n",
    "elif day_number == 6:\n",
    "    day_name = \"Saturday\"\n",
    "elif day_number == 7:\n",
    "    day_name = \"Sunday\"\n",
    "else:\n",
    "    day_name = \"Invalid input (please enter a number between 1 and 7)\"\n",
    "\n",
    "# Display the result\n",
    "print(f\"The day corresponding to the number {day_number} is: {day_name}\")\n"
   ]
  },
  {
   "cell_type": "markdown",
   "id": "37039118-67fd-4091-b1b9-b518a107ee03",
   "metadata": {},
   "source": [
    "14.Create a Python program that checks if a given year is a leap year using both if-else and a function.\n"
   ]
  },
  {
   "cell_type": "code",
   "execution_count": 41,
   "id": "ee98c703-db82-4fb7-bd0c-f42ce2d06d49",
   "metadata": {},
   "outputs": [
    {
     "name": "stdin",
     "output_type": "stream",
     "text": [
      "Enter a year:  2022\n"
     ]
    },
    {
     "name": "stdout",
     "output_type": "stream",
     "text": [
      "2022 is not a leap year.\n"
     ]
    }
   ],
   "source": [
    "def is_leap_year(year):\n",
    "    # Check if the year is a leap year using if-else\n",
    "    if (year % 4 == 0 and year % 100 != 0) or (year % 400 == 0):\n",
    "        return True\n",
    "    else:\n",
    "        return False\n",
    "\n",
    "# Get input year from the user\n",
    "user_year = int(input(\"Enter a year: \"))\n",
    "\n",
    "# Check if the year is a leap year using the function\n",
    "if is_leap_year(user_year):\n",
    "    print(f\"{user_year} is a leap year.\")\n",
    "else:\n",
    "    print(f\"{user_year} is not a leap year.\")\n"
   ]
  },
  {
   "cell_type": "markdown",
   "id": "ae878bac-aa0c-40ea-9202-96649c9486b9",
   "metadata": {},
   "source": [
    "15.How do you use the \"assert\" statement in Python to add debugging checks within if-else blocks?\n"
   ]
  },
  {
   "cell_type": "code",
   "execution_count": 42,
   "id": "ab0caaaa-8972-44f0-a9e3-eae88de1a7db",
   "metadata": {},
   "outputs": [
    {
     "name": "stdin",
     "output_type": "stream",
     "text": [
      "Enter a number:  7\n"
     ]
    },
    {
     "name": "stdout",
     "output_type": "stream",
     "text": [
      "The square of 7.0 is: 49.0\n"
     ]
    }
   ],
   "source": [
    "# Function to calculate the square of a number\n",
    "def square(x):\n",
    "    # Ensure that the input is a positive number\n",
    "    assert x >= 0, \"Input must be a non-negative number\"\n",
    "    \n",
    "    return x ** 2\n",
    "\n",
    "# Get input number from the user\n",
    "user_input = float(input(\"Enter a number: \"))\n",
    "\n",
    "# Use the function with assert within an if-else block\n",
    "try:\n",
    "    result = square(user_input)\n",
    "    print(f\"The square of {user_input} is: {result}\")\n",
    "except AssertionError as e:\n",
    "    print(f\"Error: {e}\")\n"
   ]
  },
  {
   "cell_type": "markdown",
   "id": "95bcee6f-bd5e-4e0c-bafe-11b2b771e78a",
   "metadata": {},
   "source": [
    "16. Create a Python program that determines the eligibility of a person for a senior citizen discount based on age using if-else.\n"
   ]
  },
  {
   "cell_type": "code",
   "execution_count": 44,
   "id": "73dd8fef-7c25-47d0-b913-fb47c104993a",
   "metadata": {},
   "outputs": [
    {
     "name": "stdin",
     "output_type": "stream",
     "text": [
      "Enter your age:  66\n"
     ]
    },
    {
     "name": "stdout",
     "output_type": "stream",
     "text": [
      "Congratulations! You are eligible for a senior citizen discount.\n"
     ]
    }
   ],
   "source": [
    "# Get input age from the user\n",
    "user_age = int(input(\"Enter your age: \"))\n",
    "\n",
    "# Define the senior citizen age threshold\n",
    "senior_citizen_age = 60\n",
    "\n",
    "# Check if the person is eligible for a senior citizen discount using if-else\n",
    "if user_age >= senior_citizen_age:\n",
    "    print(\"Congratulations! You are eligible for a senior citizen discount.\")\n",
    "else:\n",
    "    print(\"Sorry, you are not eligible for a senior citizen discount.\")\n"
   ]
  },
  {
   "cell_type": "markdown",
   "id": "e984438c-72ec-40ce-907e-d9f8e4da2234",
   "metadata": {},
   "source": [
    "17.Write a Python program to categorize a given character as uppercase, lowercase, or neither using if-else."
   ]
  },
  {
   "cell_type": "code",
   "execution_count": 45,
   "id": "158f6e92-de72-4d3f-aa06-bc44c1c00f5b",
   "metadata": {},
   "outputs": [
    {
     "name": "stdin",
     "output_type": "stream",
     "text": [
      "Enter a character:  u\n"
     ]
    },
    {
     "name": "stdout",
     "output_type": "stream",
     "text": [
      "The character 'u' is lowercase.\n"
     ]
    }
   ],
   "source": [
    "# Get input character from the user\n",
    "user_char = input(\"Enter a character: \")\n",
    "\n",
    "# Check if the character is uppercase, lowercase, or neither using if-else\n",
    "if user_char.isupper():\n",
    "    print(f\"The character '{user_char}' is uppercase.\")\n",
    "elif user_char.islower():\n",
    "    print(f\"The character '{user_char}' is lowercase.\")\n",
    "else:\n",
    "    print(f\"The character '{user_char}' is neither uppercase nor lowercase.\")\n"
   ]
  },
  {
   "cell_type": "markdown",
   "id": "5b167554-2176-4050-94db-97908a4610ca",
   "metadata": {},
   "source": [
    "18.Write a Python program to determine the roots of a quadratic equation using if-else.\n"
   ]
  },
  {
   "cell_type": "code",
   "execution_count": 46,
   "id": "fb67769a-357b-4d58-9559-531e1a1b0812",
   "metadata": {},
   "outputs": [
    {
     "name": "stdin",
     "output_type": "stream",
     "text": [
      "Enter the coefficient a:  8\n",
      "Enter the coefficient b:  7\n",
      "Enter the coefficient c:  4\n"
     ]
    },
    {
     "name": "stdout",
     "output_type": "stream",
     "text": [
      "The roots are complex: (-0.4375+0.5555121510822243j) and (-0.4375-0.5555121510822243j)\n"
     ]
    }
   ],
   "source": [
    "import cmath  # Importing the complex math module for handling complex roots\n",
    "\n",
    "# Get input coefficients from the user\n",
    "a = float(input(\"Enter the coefficient a: \"))\n",
    "b = float(input(\"Enter the coefficient b: \"))\n",
    "c = float(input(\"Enter the coefficient c: \"))\n",
    "\n",
    "# Calculate the discriminant\n",
    "discriminant = b**2 - 4*a*c\n",
    "\n",
    "# Determine the roots using if-else statements\n",
    "if discriminant > 0:\n",
    "    # Two distinct real roots\n",
    "    root1 = (-b + cmath.sqrt(discriminant)) / (2*a)\n",
    "    root2 = (-b - cmath.sqrt(discriminant)) / (2*a)\n",
    "    print(f\"The roots are real and distinct: {root1} and {root2}\")\n",
    "elif discriminant == 0:\n",
    "    # One real root (double root)\n",
    "    root = -b / (2*a)\n",
    "    print(f\"The root is real and repeated: {root}\")\n",
    "else:\n",
    "    # Complex roots\n",
    "    root1 = (-b + cmath.sqrt(discriminant)) / (2*a)\n",
    "    root2 = (-b - cmath.sqrt(discriminant)) / (2*a)\n",
    "    print(f\"The roots are complex: {root1} and {root2}\")\n"
   ]
  },
  {
   "cell_type": "markdown",
   "id": "6b6da291-1e43-47d0-aaa0-f6b218c5c33d",
   "metadata": {},
   "source": [
    "19. Create a Python program that checks if a given year is a century year or not using if-else.\n"
   ]
  },
  {
   "cell_type": "code",
   "execution_count": 47,
   "id": "2a3a9afb-6ad7-4495-b506-0534910b87c4",
   "metadata": {},
   "outputs": [
    {
     "name": "stdin",
     "output_type": "stream",
     "text": [
      "Enter a year:  2022\n"
     ]
    },
    {
     "name": "stdout",
     "output_type": "stream",
     "text": [
      "2022 is not a century year.\n"
     ]
    }
   ],
   "source": [
    "# Get input year from the user\n",
    "user_year = int(input(\"Enter a year: \"))\n",
    "\n",
    "# Check if the year is a century year using if-else\n",
    "if user_year % 100 == 0:\n",
    "    print(f\"{user_year} is a century year.\")\n",
    "else:\n",
    "    print(f\"{user_year} is not a century year.\")\n"
   ]
  },
  {
   "cell_type": "markdown",
   "id": "9f046f35-55af-47c3-b3a0-c7df890cc418",
   "metadata": {},
   "source": [
    "20 Write a Python program to determine if a given number is a perfect square using if-else.\n"
   ]
  },
  {
   "cell_type": "code",
   "execution_count": 49,
   "id": "c0089554-3216-4faa-b728-e8d1e310c8ac",
   "metadata": {},
   "outputs": [
    {
     "name": "stdin",
     "output_type": "stream",
     "text": [
      "Enter a number:  16\n"
     ]
    },
    {
     "name": "stdout",
     "output_type": "stream",
     "text": [
      "16.0 is a perfect square.\n"
     ]
    }
   ],
   "source": [
    "# Get input number from the user\n",
    "user_number = float(input(\"Enter a number: \"))\n",
    "\n",
    "# Check if the number is a perfect square using if-else\n",
    "if user_number > 0 and (user_number**0.5).is_integer():\n",
    "    print(f\"{user_number} is a perfect square.\")\n",
    "else:\n",
    "    print(f\"{user_number} is not a perfect square.\")\n"
   ]
  },
  {
   "cell_type": "markdown",
   "id": "5651a2b7-46bd-45ef-87d1-ac8961cc43f8",
   "metadata": {},
   "source": [
    "21. Explain the purpose of the \"continue\" and \"break\" statements within if-else loops.\n"
   ]
  },
  {
   "cell_type": "markdown",
   "id": "fa717a16-80b1-4fae-9e95-de5d36da9185",
   "metadata": {},
   "source": [
    "\n",
    "The continue and break statements are control flow statements in Python that are used within loops (including for and while loops) to alter the normal flow of execution.\n",
    "\n",
    "break Statement:\n",
    "\n",
    "Purpose: The break statement is used to terminate the loop prematurely, regardless of whether the loop condition is still true.\n",
    "When encountered, the break statement immediately exits the loop, and the program continues with the first statement after the loop."
   ]
  },
  {
   "cell_type": "code",
   "execution_count": 50,
   "id": "4432e5eb-bf31-4188-80e3-b77e5652de52",
   "metadata": {},
   "outputs": [
    {
     "name": "stdout",
     "output_type": "stream",
     "text": [
      "0\n",
      "1\n",
      "2\n"
     ]
    }
   ],
   "source": [
    "for i in range(5):\n",
    "    if i == 3:\n",
    "        break\n",
    "    print(i)"
   ]
  },
  {
   "cell_type": "markdown",
   "id": "5c033f78-3a36-4aa2-93f1-c82c60adfd87",
   "metadata": {},
   "source": [
    "Purpose: The continue statement is used to skip the rest of the code inside the loop for the current iteration and move to the next iteration.\n",
    "When encountered, the continue statement skips the rest of the loop body and jumps to the next iteration.\n",
    "Example:"
   ]
  },
  {
   "cell_type": "code",
   "execution_count": 51,
   "id": "1293c60b-7fc7-4a68-81e7-cc744f1e728a",
   "metadata": {},
   "outputs": [
    {
     "name": "stdout",
     "output_type": "stream",
     "text": [
      "0\n",
      "1\n",
      "3\n",
      "4\n"
     ]
    }
   ],
   "source": [
    "for i in range(5):\n",
    "    if i == 2:\n",
    "        continue\n",
    "    print(i)"
   ]
  },
  {
   "cell_type": "markdown",
   "id": "ae44ff22-a1f3-4261-81b5-607f147656ca",
   "metadata": {},
   "source": [
    "22. Create a Python program that calculates the BMI (Body Mass Index) of a person based on their weight and height using if-else.\n"
   ]
  },
  {
   "cell_type": "code",
   "execution_count": 53,
   "id": "ad990f3d-f236-460a-8276-9f0d28d6c0a2",
   "metadata": {},
   "outputs": [
    {
     "name": "stdin",
     "output_type": "stream",
     "text": [
      "Enter your weight in kilograms:  78\n",
      "Enter your height in meters:  120\n"
     ]
    },
    {
     "name": "stdout",
     "output_type": "stream",
     "text": [
      "Your BMI is: 0.01\n",
      "You are classified as: Underweight\n"
     ]
    }
   ],
   "source": [
    "# Get input weight and height from the user\n",
    "weight_kg = float(input(\"Enter your weight in kilograms: \"))\n",
    "height_m = float(input(\"Enter your height in meters: \"))\n",
    "\n",
    "# Calculate BMI (Body Mass Index)\n",
    "bmi = weight_kg / (height_m ** 2)\n",
    "\n",
    "# Determine the BMI category using if-else statements\n",
    "if bmi < 18.5:\n",
    "    category = \"Underweight\"\n",
    "elif 18.5 <= bmi < 25:\n",
    "    category = \"Normal weight\"\n",
    "elif 25 <= bmi < 30:\n",
    "    category = \"Overweight\"\n",
    "else:\n",
    "    category = \"Obese\"\n",
    "\n",
    "# Display the result\n",
    "print(f\"Your BMI is: {bmi:.2f}\")\n",
    "print(f\"You are classified as: {category}\")\n",
    "\n"
   ]
  },
  {
   "cell_type": "markdown",
   "id": "177bdefb-0c7d-4a50-aaed-be88a7eab0da",
   "metadata": {},
   "source": [
    "23. How can you use the \"filter()\" function with if-else statements to filter elements from a list?\n"
   ]
  },
  {
   "cell_type": "markdown",
   "id": "d7671405-a68d-40f7-99a5-68f3c1c86b5f",
   "metadata": {},
   "source": [
    "The filter() function in Python is used to filter elements from an iterable (e.g., a list) based on a specified function. While the filter() function itself doesn't use if-else statements directly, you can achieve filtering with conditions using a function that includes if-else statements.\n",
    "\n",
    "Here's an example demonstrating how to use the filter() function with if-else statements to filter elements from a list:"
   ]
  },
  {
   "cell_type": "code",
   "execution_count": 54,
   "id": "7b148c10-6179-44e7-ab16-ac78a843f724",
   "metadata": {},
   "outputs": [
    {
     "name": "stdout",
     "output_type": "stream",
     "text": [
      "Original numbers: [1, 2, 3, 4, 5, 6, 7, 8, 9, 10]\n",
      "Filtered even numbers: [2, 4, 6, 8, 10]\n"
     ]
    }
   ],
   "source": [
    "# Function to filter even numbers\n",
    "def filter_even(num):\n",
    "    return num % 2 == 0\n",
    "\n",
    "# List of numbers\n",
    "numbers = [1, 2, 3, 4, 5, 6, 7, 8, 9, 10]\n",
    "\n",
    "# Use filter() with the filter_even function\n",
    "filtered_numbers = filter(filter_even, numbers)\n",
    "\n",
    "# Convert the filtered result to a list\n",
    "filtered_numbers_list = list(filtered_numbers)\n",
    "\n",
    "# Display the result\n",
    "print(f\"Original numbers: {numbers}\")\n",
    "print(f\"Filtered even numbers: {filtered_numbers_list}\")\n"
   ]
  },
  {
   "cell_type": "markdown",
   "id": "9dc440b3-f47c-4649-bc81-a4b32f2b0b98",
   "metadata": {},
   "source": [
    "The filter_even function checks if a number is even using an if-else statement.\n",
    "The filter() function is used with filter_even as the filtering function and the numbers list as the iterable.\n",
    "The result is converted to a list to display the filtered numbers.\n",
    "You can customize the filtering function to apply any condition you need. The filter() function will apply the function to each element of the iterable, and it will include in the result only those elements for which the function returns True."
   ]
  },
  {
   "cell_type": "markdown",
   "id": "b6316f4d-afb3-403a-b882-68b14f39c7d1",
   "metadata": {},
   "source": [
    "24. Write a Python program to determine if a given number is prime or not using if-else.\n"
   ]
  },
  {
   "cell_type": "code",
   "execution_count": 55,
   "id": "4b59aa34-89a7-4b1e-8208-a64fe41ec984",
   "metadata": {},
   "outputs": [
    {
     "name": "stdin",
     "output_type": "stream",
     "text": [
      "Enter a number:  88\n"
     ]
    },
    {
     "name": "stdout",
     "output_type": "stream",
     "text": [
      "88 is not a prime number.\n"
     ]
    }
   ],
   "source": [
    "# Get input number from the user\n",
    "user_number = int(input(\"Enter a number: \"))\n",
    "\n",
    "# Check if the number is prime using if-else\n",
    "if user_number > 1:\n",
    "    for i in range(2, int(user_number**0.5) + 1):\n",
    "        if user_number % i == 0:\n",
    "            print(f\"{user_number} is not a prime number.\")\n",
    "            break\n",
    "    else:\n",
    "        print(f\"{user_number} is a prime number.\")\n",
    "else:\n",
    "    print(f\"{user_number} is not a prime number.\")\n"
   ]
  },
  {
   "cell_type": "markdown",
   "id": "1de47be7-21c9-4591-b75f-a5dce333a5c1",
   "metadata": {},
   "source": [
    "Map :-\n",
    "\n",
    "\n",
    "1. Explain the purpose of the `map()` function in Python and provide an example of how it can be used to apply a function to each element of an iterable.\n"
   ]
  },
  {
   "cell_type": "markdown",
   "id": "aad93584-3e32-474a-b8a0-3c4e83202a7e",
   "metadata": {},
   "source": [
    "The map() function in Python is a built-in function that is used to apply a specified function to all items in an iterable (such as a list, tuple, or string) and returns an iterable (usually a map object) of the results. It takes two arguments: the function to apply and the iterable to apply it to.\n",
    "\n",
    "The basic syntax of the map() function is as follows:"
   ]
  },
  {
   "cell_type": "markdown",
   "id": "88ff57ce-69a5-4e75-bfd0-7d2a2c853b62",
   "metadata": {},
   "source": [
    "#map(function, iterable, ...)\n",
    "function: The function to apply to each item in the iterable.\n",
    "iterable: The iterable (e.g., list, tuple, string) whose elements will be processed by the function.\n",
    "Here's a simple example to illustrate how map() works:\n"
   ]
  },
  {
   "cell_type": "code",
   "execution_count": 58,
   "id": "f452e743-a458-4aa5-bebb-ea70158cf31b",
   "metadata": {},
   "outputs": [
    {
     "name": "stdout",
     "output_type": "stream",
     "text": [
      "[1, 4, 9, 16, 25]\n"
     ]
    }
   ],
   "source": [
    "# Function to square a number\n",
    "def square(x):\n",
    "    return x**2\n",
    "\n",
    "# List of numbers\n",
    "numbers = [1, 2, 3, 4, 5]\n",
    "\n",
    "# Use map() to apply the square function to each element of the list\n",
    "squared_numbers = map(square, numbers)\n",
    "\n",
    "# Convert the result to a list and print\n",
    "result_list = list(squared_numbers)\n",
    "print(result_list)\n"
   ]
  },
  {
   "cell_type": "markdown",
   "id": "3a2fdef6-7a6a-4976-802b-f09eecf3a788",
   "metadata": {},
   "source": [
    "2. Write a Python program that uses the `map()` function to square each element of a list of numbers.\n"
   ]
  },
  {
   "cell_type": "code",
   "execution_count": 59,
   "id": "1dffef1e-1bcc-4eab-9a15-2f247b856159",
   "metadata": {},
   "outputs": [
    {
     "name": "stdout",
     "output_type": "stream",
     "text": [
      "Original numbers: [1, 2, 3, 4, 5]\n",
      "Squared numbers: [1, 4, 9, 16, 25]\n"
     ]
    }
   ],
   "source": [
    "# Function to square a number\n",
    "def square(x):\n",
    "    return x**2\n",
    "\n",
    "# List of numbers\n",
    "numbers = [1, 2, 3, 4, 5]\n",
    "\n",
    "# Use map() to apply the square function to each element of the list\n",
    "squared_numbers = map(square, numbers)\n",
    "\n",
    "# Convert the result to a list and print\n",
    "result_list = list(squared_numbers)\n",
    "\n",
    "# Display the result\n",
    "print(f\"Original numbers: {numbers}\")\n",
    "print(f\"Squared numbers: {result_list}\")\n"
   ]
  },
  {
   "cell_type": "markdown",
   "id": "f8b19306-ffb8-4b91-a151-f6d3e8ddce22",
   "metadata": {},
   "source": [
    "3. How does the `map()` function differ from a list comprehension in Python, and when would you choose one over the other?\n"
   ]
  },
  {
   "cell_type": "markdown",
   "id": "584a7a13-39ec-4884-bc11-c68c298609e9",
   "metadata": {},
   "source": [
    "The map() function and list comprehensions are both ways to apply a function to each element of an iterable, but they have some differences in terms of syntax and use cases.\n",
    "\n",
    "map() Function:"
   ]
  },
  {
   "cell_type": "markdown",
   "id": "b33baef1-a8f3-4327-a671-bfec87163130",
   "metadata": {},
   "source": [
    "Syntax:\n",
    "map(function, iterable, ...)\n",
    "\n",
    "Returns:\n",
    "\n",
    "Produces a map object, which is an iterable. You usually need to convert it to a list, tuple, or another iterable type to see the results.\n",
    "Use Case:\n",
    "\n",
    "Appropriate when you want to apply a function to each element of one or more iterables."
   ]
  },
  {
   "cell_type": "code",
   "execution_count": 61,
   "id": "cec37dde-ddf4-4383-9e5e-6b6ed6d7dc8a",
   "metadata": {},
   "outputs": [],
   "source": [
    "#example\n",
    "# Using map to square each element of a list\n",
    "numbers = [1, 2, 3, 4, 5]\n",
    "squared_numbers = map(lambda x: x**2, numbers)\n",
    "result_list = list(squared_numbers)\n"
   ]
  },
  {
   "cell_type": "markdown",
   "id": "023c974f-ab8b-4c41-ae76-8b1c4b03c05e",
   "metadata": {},
   "source": [
    "List Comprehension:\n",
    "Syntax:[expression for item in iterable if condition]\n"
   ]
  },
  {
   "cell_type": "markdown",
   "id": "07b0e73d-f412-4ef8-a69f-b7c25e60309b",
   "metadata": {},
   "source": [
    "Returns:\n",
    "\n",
    "Directly produces a list.\n",
    "Use Case:\n",
    "\n",
    "Suitable for creating a new list by applying an expression to each item in an existing iterable, optionally with a condition.\n",
    "Example:"
   ]
  },
  {
   "cell_type": "code",
   "execution_count": 62,
   "id": "513382df-4177-4b08-b004-460f8af84933",
   "metadata": {},
   "outputs": [],
   "source": [
    "# Using list comprehension to square each element of a list\n",
    "numbers = [1, 2, 3, 4, 5]\n",
    "squared_numbers = [x**2 for x in numbers]\n"
   ]
  },
  {
   "cell_type": "markdown",
   "id": "f458da79-a853-4a10-80f7-711b9f6d9878",
   "metadata": {},
   "source": [
    "Choosing Between map() and List Comprehension:\n",
    "Readability:\n",
    "\n",
    "List comprehensions are often considered more readable and concise for simple transformations.\n",
    "Elegance:\n",
    "\n",
    "List comprehensions can be more elegant and Pythonic for certain tasks.\n",
    "Complexity:\n",
    "\n",
    "For more complex transformations involving multiple iterables or conditions, map() with a lambda function might be more appropriate.\n",
    "Functional Programming:\n",
    "\n",
    "If you are following a functional programming paradigm or working with functions as first-class citizens, map() might be a better fit.\n",
    "In summary, both map() and list comprehensions can achieve similar results, and the choice between them often depends on personal preference, readability, and the complexity of the transformation you need. If the transformation is simple and involves a single iterable, list comprehensions are often favored. If the transformation is more complex or involves multiple iterables, map() might be more appropriate."
   ]
  },
  {
   "cell_type": "markdown",
   "id": "b0dcd21f-9daf-4f85-839a-3cd06b256d36",
   "metadata": {},
   "source": [
    "4. Create a Python program that uses the `map()` function to convert a list of names to uppercase.\n"
   ]
  },
  {
   "cell_type": "code",
   "execution_count": 63,
   "id": "9896501b-9909-43ff-b050-4111a76bb8ed",
   "metadata": {},
   "outputs": [
    {
     "name": "stdout",
     "output_type": "stream",
     "text": [
      "Original names: ['Alice', 'Bob', 'Charlie', 'David', 'Eve']\n",
      "Uppercase names: ['ALICE', 'BOB', 'CHARLIE', 'DAVID', 'EVE']\n"
     ]
    }
   ],
   "source": [
    "# List of names\n",
    "names = [\"Alice\", \"Bob\", \"Charlie\", \"David\", \"Eve\"]\n",
    "\n",
    "# Use map() to convert each name to uppercase\n",
    "uppercase_names = map(str.upper, names)\n",
    "\n",
    "# Convert the result to a list and print\n",
    "uppercase_names_list = list(uppercase_names)\n",
    "\n",
    "# Display the result\n",
    "print(f\"Original names: {names}\")\n",
    "print(f\"Uppercase names: {uppercase_names_list}\")\n"
   ]
  },
  {
   "cell_type": "markdown",
   "id": "15aaf8ac-68b2-4b63-9035-e47f965aa7e8",
   "metadata": {},
   "source": [
    "5. Write a Python program that uses the `map()` function to calculate the length of each word in a list of strings.\n"
   ]
  },
  {
   "cell_type": "code",
   "execution_count": 64,
   "id": "092f2e3e-7aa6-418b-a40e-586f5a9f468c",
   "metadata": {},
   "outputs": [
    {
     "name": "stdout",
     "output_type": "stream",
     "text": [
      "Original words: ['apple', 'banana', 'cherry', 'date', 'elderberry']\n",
      "Word lengths: [5, 6, 6, 4, 10]\n"
     ]
    }
   ],
   "source": [
    "# List of strings\n",
    "words = [\"apple\", \"banana\", \"cherry\", \"date\", \"elderberry\"]\n",
    "\n",
    "# Use map() to calculate the length of each word\n",
    "word_lengths = map(len, words)\n",
    "\n",
    "# Convert the result to a list and print\n",
    "word_lengths_list = list(word_lengths)\n",
    "\n",
    "# Display the result\n",
    "print(f\"Original words: {words}\")\n",
    "print(f\"Word lengths: {word_lengths_list}\")\n"
   ]
  },
  {
   "cell_type": "markdown",
   "id": "a2a6cb3d-61b0-4a8b-b54c-a31ba61198f3",
   "metadata": {},
   "source": [
    "6. How can you use the `map()` function to apply a custom function to elements of multiple lists simultaneously in Python?\n"
   ]
  },
  {
   "cell_type": "markdown",
   "id": "ffe66b74-c85a-43c6-8ebc-0a36ea934f76",
   "metadata": {},
   "source": [
    "To apply a custom function to elements of multiple lists simultaneously using the map() function in Python, you can define a function that takes arguments from multiple lists and use map() to apply this function to corresponding elements of the lists. Here's an example:"
   ]
  },
  {
   "cell_type": "code",
   "execution_count": 65,
   "id": "a6e3d5b0-f0d7-4b12-97fe-7dec7be5190b",
   "metadata": {},
   "outputs": [
    {
     "name": "stdout",
     "output_type": "stream",
     "text": [
      "List 1: [1, 2, 3, 4]\n",
      "List 2: [5, 6, 7, 8]\n",
      "Result: [6, 8, 10, 12]\n"
     ]
    }
   ],
   "source": [
    "# Custom function to add elements from two lists\n",
    "def add_elements(x, y):\n",
    "    return x + y\n",
    "\n",
    "# Lists\n",
    "list1 = [1, 2, 3, 4]\n",
    "list2 = [5, 6, 7, 8]\n",
    "\n",
    "# Use map() to apply the custom function to corresponding elements of the lists\n",
    "result = map(add_elements, list1, list2)\n",
    "\n",
    "# Convert the result to a list and print\n",
    "result_list = list(result)\n",
    "\n",
    "# Display the result\n",
    "print(f\"List 1: {list1}\")\n",
    "print(f\"List 2: {list2}\")\n",
    "print(f\"Result: {result_list}\")\n"
   ]
  },
  {
   "cell_type": "markdown",
   "id": "24a7c1ab-c414-4453-8088-59db67da4f12",
   "metadata": {},
   "source": [
    "You can customize the add_elements function or define your own function based on the specific operation you want to perform on corresponding elements of the lists. The key is to ensure that your custom function takes the same number of arguments as the number of lists you are passing to map()."
   ]
  },
  {
   "cell_type": "markdown",
   "id": "10113fc1-4ac7-4665-98a3-1dc93ce0430a",
   "metadata": {},
   "source": [
    "7. Create a Python program that uses `map()` to convert a list of temperatures from Celsius to Fahrenheit.\n"
   ]
  },
  {
   "cell_type": "code",
   "execution_count": 66,
   "id": "6af230c6-a6be-4c95-b80a-03c8b07cf9eb",
   "metadata": {},
   "outputs": [
    {
     "name": "stdout",
     "output_type": "stream",
     "text": [
      "Celsius temperatures: [0, 10, 20, 30, 40]\n",
      "Fahrenheit temperatures: [32.0, 50.0, 68.0, 86.0, 104.0]\n"
     ]
    }
   ],
   "source": [
    "# Custom function to convert Celsius to Fahrenheit\n",
    "def celsius_to_fahrenheit(celsius):\n",
    "    return (celsius * 9/5) + 32\n",
    "\n",
    "# List of temperatures in Celsius\n",
    "celsius_temperatures = [0, 10, 20, 30, 40]\n",
    "\n",
    "# Use map() to apply the conversion function to each element of the list\n",
    "fahrenheit_temperatures = map(celsius_to_fahrenheit, celsius_temperatures)\n",
    "\n",
    "# Convert the result to a list and print\n",
    "fahrenheit_temperatures_list = list(fahrenheit_temperatures)\n",
    "\n",
    "# Display the result\n",
    "print(f\"Celsius temperatures: {celsius_temperatures}\")\n",
    "print(f\"Fahrenheit temperatures: {fahrenheit_temperatures_list}\")\n"
   ]
  },
  {
   "cell_type": "markdown",
   "id": "eafc7f7d-03ea-40c4-a911-accc3f55f012",
   "metadata": {},
   "source": [
    "8 . Write a Python program that uses the `map()` function to round each element of a list of floating-point numbers to the nearest integer.\n"
   ]
  },
  {
   "cell_type": "code",
   "execution_count": 67,
   "id": "089466e4-5ae1-4e42-93d4-96e4fcbf4590",
   "metadata": {},
   "outputs": [
    {
     "name": "stdout",
     "output_type": "stream",
     "text": [
      "Original numbers: [3.14, 2.71, 1.618, 4.669, 0.577]\n",
      "Rounded numbers: [3, 3, 2, 5, 1]\n"
     ]
    }
   ],
   "source": [
    "# List of floating-point numbers\n",
    "float_numbers = [3.14, 2.71, 1.618, 4.669, 0.577]\n",
    "\n",
    "# Use map() to apply the round function to each element of the list\n",
    "rounded_numbers = map(round, float_numbers)\n",
    "\n",
    "# Convert the result to a list and print\n",
    "rounded_numbers_list = list(rounded_numbers)\n",
    "\n",
    "# Display the result\n",
    "print(f\"Original numbers: {float_numbers}\")\n",
    "print(f\"Rounded numbers: {rounded_numbers_list}\")\n"
   ]
  },
  {
   "cell_type": "markdown",
   "id": "a67fe2d7-bcaa-4631-83e6-b6ddc32dcf46",
   "metadata": {},
   "source": [
    "Reduce :-\n",
    "\n",
    "\n",
    "What is the `reduce()` function in Python, and what module should you import to use it? Provide an example of its basic usage.\n"
   ]
  },
  {
   "cell_type": "markdown",
   "id": "9afe513b-6ebc-41e8-964c-f83e749ba9e0",
   "metadata": {},
   "source": [
    "The reduce() function is part of the functools module in Python. It is used for aggregating elements of an iterable, applying a specified function cumulatively to the items, and reducing the iterable to a single accumulated result."
   ]
  },
  {
   "cell_type": "markdown",
   "id": "19a04a53-300e-4e13-9cf2-4118dd9146e7",
   "metadata": {},
   "source": [
    "reduce() Function:\n",
    "Syntax:\n",
    "functools.reduce(function, iterable[, initializer])\n",
    "Parameters:\n",
    "\n",
    "function: The function to apply cumulatively to the items of the iterable.\n",
    "iterable: The iterable to be reduced.\n",
    "initializer (optional): An optional initial value. If provided, it serves as the default when the iterable is empty."
   ]
  },
  {
   "cell_type": "code",
   "execution_count": 68,
   "id": "3c8036cd-b39b-4f84-8db2-588f53023b18",
   "metadata": {},
   "outputs": [
    {
     "name": "stdout",
     "output_type": "stream",
     "text": [
      "Product of numbers: 120\n"
     ]
    }
   ],
   "source": [
    "from functools import reduce\n",
    "\n",
    "# Example function to calculate the product of two numbers\n",
    "def multiply(x, y):\n",
    "    return x * y\n",
    "\n",
    "# List of numbers\n",
    "numbers = [1, 2, 3, 4, 5]\n",
    "\n",
    "# Use reduce() to calculate the product of all numbers\n",
    "product = reduce(multiply, numbers)\n",
    "\n",
    "# Display the result\n",
    "print(f\"Product of numbers: {product}\")\n"
   ]
  },
  {
   "cell_type": "markdown",
   "id": "ef969f3d-ba34-4cb6-9f4d-1e1c6e3fa8fd",
   "metadata": {},
   "source": [
    "In this example:\n",
    "\n",
    "The multiply function takes two arguments and returns their product.\n",
    "The reduce() function applies the multiply function cumulatively to the elements of the numbers list, resulting in the product of all numbers.\n",
    "The functools.reduce() function is particularly useful for cases where you need to perform a cumulative computation on the elements of an iterable, such as calculating the product, sum, or finding the maximum value."
   ]
  },
  {
   "cell_type": "markdown",
   "id": "85539eb8-6c07-4c38-96a2-21e98b00dcc5",
   "metadata": {},
   "source": [
    "2. Write a Python program that uses the `filter()` function to select even numbers from a list of integers.\n"
   ]
  },
  {
   "cell_type": "code",
   "execution_count": 69,
   "id": "104dc96b-2e12-4f80-be46-8f3f32ca4243",
   "metadata": {},
   "outputs": [
    {
     "name": "stdout",
     "output_type": "stream",
     "text": [
      "Original numbers: [1, 2, 3, 4, 5, 6, 7, 8, 9, 10]\n",
      "Even numbers: [2, 4, 6, 8, 10]\n"
     ]
    }
   ],
   "source": [
    "# List of integers\n",
    "numbers = [1, 2, 3, 4, 5, 6, 7, 8, 9, 10]\n",
    "\n",
    "# Use filter() to select even numbers\n",
    "even_numbers = filter(lambda x: x % 2 == 0, numbers)\n",
    "\n",
    "# Convert the result to a list and print\n",
    "even_numbers_list = list(even_numbers)\n",
    "\n",
    "# Display the result\n",
    "print(f\"Original numbers: {numbers}\")\n",
    "print(f\"Even numbers: {even_numbers_list}\")\n"
   ]
  },
  {
   "cell_type": "markdown",
   "id": "a5b65084-ef37-4208-a629-ef3e9de2ebde",
   "metadata": {},
   "source": [
    "3. Create a Python program that uses the `filter()` function to select names that start with a specific letter from a list of strings.\n"
   ]
  },
  {
   "cell_type": "code",
   "execution_count": 70,
   "id": "8240e750-0f9a-4844-9449-3d368bbceff0",
   "metadata": {},
   "outputs": [
    {
     "name": "stdout",
     "output_type": "stream",
     "text": [
      "Original names: ['Alice', 'Bob', 'Charlie', 'David', 'Eve', 'Frank']\n",
      "Names starting with 'D': ['David']\n"
     ]
    }
   ],
   "source": [
    "# List of names\n",
    "names = [\"Alice\", \"Bob\", \"Charlie\", \"David\", \"Eve\", \"Frank\"]\n",
    "\n",
    "# Specific letter to filter names\n",
    "start_letter = \"D\"\n",
    "\n",
    "# Use filter() to select names that start with the specific letter\n",
    "filtered_names = filter(lambda name: name.startswith(start_letter), names)\n",
    "\n",
    "# Convert the result to a list and print\n",
    "filtered_names_list = list(filtered_names)\n",
    "\n",
    "# Display the result\n",
    "print(f\"Original names: {names}\")\n",
    "print(f\"Names starting with '{start_letter}': {filtered_names_list}\")\n"
   ]
  },
  {
   "cell_type": "markdown",
   "id": "ef7d7a37-e874-4288-88a3-3024700fa970",
   "metadata": {},
   "source": [
    "4. Write a Python program that uses the `filter()` function to select prime numbers from a list of integers.\n"
   ]
  },
  {
   "cell_type": "code",
   "execution_count": 71,
   "id": "a681039a-122e-46e2-ac64-a909fb7714d9",
   "metadata": {},
   "outputs": [
    {
     "name": "stdout",
     "output_type": "stream",
     "text": [
      "Original numbers: [1, 2, 3, 4, 5, 6, 7, 8, 9, 10]\n",
      "Prime numbers: [2, 3, 5, 7]\n"
     ]
    }
   ],
   "source": [
    "# Function to check if a number is prime\n",
    "def is_prime(n):\n",
    "    if n < 2:\n",
    "        return False\n",
    "    for i in range(2, int(n**0.5) + 1):\n",
    "        if n % i == 0:\n",
    "            return False\n",
    "    return True\n",
    "\n",
    "# List of integers\n",
    "numbers = [1, 2, 3, 4, 5, 6, 7, 8, 9, 10]\n",
    "\n",
    "# Use filter() to select prime numbers\n",
    "prime_numbers = filter(is_prime, numbers)\n",
    "\n",
    "# Convert the result to a list and print\n",
    "prime_numbers_list = list(prime_numbers)\n",
    "\n",
    "# Display the result\n",
    "print(f\"Original numbers: {numbers}\")\n",
    "print(f\"Prime numbers: {prime_numbers_list}\")\n"
   ]
  },
  {
   "cell_type": "markdown",
   "id": "0ce71030-752e-4674-a2b8-747c31f757a8",
   "metadata": {},
   "source": [
    "5. How can you use the `filter()` function to remove None values from a list in Python?\n"
   ]
  },
  {
   "cell_type": "markdown",
   "id": "d3915900-aa57-4f5e-a9b9-2028007f36e5",
   "metadata": {},
   "source": [
    "To use the filter() function to remove None values from a list in Python, you can pass a filtering function that checks for None. "
   ]
  },
  {
   "cell_type": "code",
   "execution_count": 72,
   "id": "1970f791-7a96-4634-8afc-fbafc43b7b02",
   "metadata": {},
   "outputs": [
    {
     "name": "stdout",
     "output_type": "stream",
     "text": [
      "Original list: [1, None, 'apple', None, 3.14, None, 'orange', None]\n",
      "Filtered list without None values: [1, 'apple', 3.14, 'orange']\n"
     ]
    }
   ],
   "source": [
    "# List with None values\n",
    "mixed_list = [1, None, \"apple\", None, 3.14, None, \"orange\", None]\n",
    "\n",
    "# Use filter() to remove None values\n",
    "filtered_list = filter(lambda x: x is not None, mixed_list)\n",
    "\n",
    "# Convert the result to a list and print\n",
    "filtered_list = list(filtered_list)\n",
    "\n",
    "# Display the result\n",
    "print(f\"Original list: {mixed_list}\")\n",
    "print(f\"Filtered list without None values: {filtered_list}\")\n"
   ]
  },
  {
   "cell_type": "markdown",
   "id": "fbb147d2-7515-407b-bab9-3d119bf6316d",
   "metadata": {},
   "source": [
    "The lambda x: x is not None is a lambda function that checks if the value is not None.\n",
    "The filter() function applies this lambda function to each element of the mixed_list, selecting only the values that are not None.\n",
    "The result is a filter object, which is converted to a list (filtered_list) for display."
   ]
  },
  {
   "cell_type": "markdown",
   "id": "83a658e1-b802-422a-93fe-abafdf4caa17",
   "metadata": {},
   "source": [
    "6. Create a Python program that uses `filter()` to select words longer than a certain length from a list of strings."
   ]
  },
  {
   "cell_type": "code",
   "execution_count": 73,
   "id": "3b44137b-888c-4588-8bbc-e33d3330c1e3",
   "metadata": {},
   "outputs": [
    {
     "name": "stdout",
     "output_type": "stream",
     "text": [
      "Original words: ['apple', 'banana', 'kiwi', 'orange', 'grape', 'blueberry']\n",
      "Selected words longer than 5 characters: ['banana', 'orange', 'blueberry']\n"
     ]
    }
   ],
   "source": [
    "# List of strings\n",
    "word_list = [\"apple\", \"banana\", \"kiwi\", \"orange\", \"grape\", \"blueberry\"]\n",
    "\n",
    "# Minimum length for selected words\n",
    "min_length = 5\n",
    "\n",
    "# Use filter() to select words longer than min_length\n",
    "selected_words = filter(lambda word: len(word) > min_length, word_list)\n",
    "\n",
    "# Convert the result to a list and print\n",
    "selected_words_list = list(selected_words)\n",
    "\n",
    "# Display the result\n",
    "print(f\"Original words: {word_list}\")\n",
    "print(f\"Selected words longer than {min_length} characters: {selected_words_list}\")\n"
   ]
  },
  {
   "cell_type": "markdown",
   "id": "3c6906b5-e162-4236-aed1-7d7e5bda359a",
   "metadata": {},
   "source": [
    "7. Write a Python program that uses the `filter()` function to select elements greater than a specified threshold from a list of values."
   ]
  },
  {
   "cell_type": "code",
   "execution_count": 74,
   "id": "0ca74a84-75bf-42ae-9af9-d2df14a04749",
   "metadata": {},
   "outputs": [
    {
     "name": "stdout",
     "output_type": "stream",
     "text": [
      "Original values: [10, 25, 5, 30, 15, 8, 20]\n",
      "Selected values greater than 15: [25, 30, 20]\n"
     ]
    }
   ],
   "source": [
    "# List of values\n",
    "values = [10, 25, 5, 30, 15, 8, 20]\n",
    "\n",
    "# Threshold for selected values\n",
    "threshold = 15\n",
    "\n",
    "# Use filter() to select values greater than the threshold\n",
    "selected_values = filter(lambda x: x > threshold, values)\n",
    "\n",
    "# Convert the result to a list and print\n",
    "selected_values_list = list(selected_values)\n",
    "\n",
    "# Display the result\n",
    "print(f\"Original values: {values}\")\n",
    "print(f\"Selected values greater than {threshold}: {selected_values_list}\")\n"
   ]
  },
  {
   "cell_type": "markdown",
   "id": "31d13c97-97f2-4f49-91e8-fea08480b1f1",
   "metadata": {},
   "source": [
    "Recursion:-\n",
    "\n",
    "Explain the concept of recursion in Python. How does it differ from iteration?\n"
   ]
  },
  {
   "cell_type": "markdown",
   "id": "86fd417f-cf54-4303-92da-6349f517fea5",
   "metadata": {},
   "source": [
    "Recursion:\n",
    "Recursion is a programming technique where a function calls itself in its own definition. In the context of Python, a recursive function is a function that calls itself to solve a smaller instance of the same problem. Recursion has the following key characteristics:\n",
    "\n",
    "Base Case:\n",
    "\n",
    "Recursive functions typically have a base case that defines the simplest, smallest instance of the problem that can be solved directly without further recursion.\n",
    "Divide and Conquer:\n",
    "\n",
    "Recursive functions break down a problem into smaller subproblems and solve them recursively. The results of these subproblems are then combined to solve the original problem.\n",
    "Stack Usage:\n",
    "\n",
    "Each recursive call adds a new frame to the call stack. When the base case is reached, the function calls are resolved, and the stack is unwound."
   ]
  },
  {
   "cell_type": "code",
   "execution_count": 75,
   "id": "72477349-cf9a-484a-b046-45a1d4384568",
   "metadata": {},
   "outputs": [],
   "source": [
    "def factorial(n):\n",
    "    # Base case\n",
    "    if n == 0 or n == 1:\n",
    "        return 1\n",
    "    # Recursive case\n",
    "    else:\n",
    "        return n * factorial(n-1)\n"
   ]
  },
  {
   "cell_type": "markdown",
   "id": "01bd7996-ff14-4e32-99bf-0cb7074f13f0",
   "metadata": {},
   "source": [
    "Iteration:\n",
    "Iteration is the process of repeatedly executing a set of statements. In Python, iteration is often achieved using loops, such as for and while loops. Iteration has the following key characteristics:\n",
    "\n",
    "Looping Structure:\n",
    "\n",
    "Iterative solutions use looping constructs to repeatedly execute a block of code until a certain condition is met.\n",
    "No Stack Overflow Risk:\n",
    "\n",
    "Iteration uses a loop control structure, and there is typically no risk of a stack overflow, which can occur in recursive solutions if the recursion depth becomes too deep.\n",
    "Explicit Control Flow:\n",
    "\n",
    "In iteration, the control flow is explicitly defined by the loop structure, making it clear how many times the loop will execute."
   ]
  },
  {
   "cell_type": "code",
   "execution_count": 77,
   "id": "8dacc911-b196-4a2e-89e6-5757b2b7c88b",
   "metadata": {},
   "outputs": [],
   "source": [
    "def factorial_iterative(n):\n",
    "    result = 1\n",
    "    for i in range(1, n+1):\n",
    "        result *= i\n",
    "    return result\n"
   ]
  },
  {
   "cell_type": "code",
   "execution_count": 78,
   "id": "2c56f1cd-e011-4342-96b5-436cd6daec96",
   "metadata": {},
   "outputs": [
    {
     "data": {
      "text/plain": [
       "720"
      ]
     },
     "execution_count": 78,
     "metadata": {},
     "output_type": "execute_result"
    }
   ],
   "source": [
    "factorial_iterative(6)"
   ]
  },
  {
   "cell_type": "markdown",
   "id": "31a429f1-97e5-4730-96d8-0163090edeec",
   "metadata": {},
   "source": [
    "Differences:\n",
    "Control Flow:\n",
    "\n",
    "Recursion uses the call stack and relies on function calls to solve smaller instances of a problem.\n",
    "Iteration uses looping constructs to repeatedly execute a block of code.\n",
    "Space Complexity:\n",
    "\n",
    "Recursive solutions may have higher space complexity due to the call stack.\n",
    "Iterative solutions typically have lower space complexity.\n",
    "Readability:\n",
    "\n",
    "Recursion can lead to concise and elegant solutions for certain problems.\n",
    "Iteration is often more explicit and may be preferred for simple, sequential tasks.\n",
    "In summary, both recursion and iteration are important techniques in programming, and the choice between them depends on the nature of the problem and the desired coding style. Recursive solutions are often used for problems that exhibit a divide-and-conquer structure, while iteration is preferred for simple, sequential tasks."
   ]
  },
  {
   "cell_type": "markdown",
   "id": "6efe32dc-fd27-452a-909f-1b293fca2ba7",
   "metadata": {},
   "source": [
    "2. Write a Python program to calculate the factorial of a number using recursion.\n"
   ]
  },
  {
   "cell_type": "code",
   "execution_count": 79,
   "id": "bd20f8af-9845-4568-938f-30b1fd97a971",
   "metadata": {},
   "outputs": [
    {
     "name": "stdin",
     "output_type": "stream",
     "text": [
      "Enter a number:  6\n"
     ]
    },
    {
     "name": "stdout",
     "output_type": "stream",
     "text": [
      "The factorial of 6 is: 720\n"
     ]
    }
   ],
   "source": [
    "def factorial(n):\n",
    "    # Base case\n",
    "    if n == 0 or n == 1:\n",
    "        return 1\n",
    "    # Recursive case\n",
    "    else:\n",
    "        return n * factorial(n-1)\n",
    "\n",
    "# Get input from the user\n",
    "num = int(input(\"Enter a number: \"))\n",
    "\n",
    "# Call the factorial function and display the result\n",
    "result = factorial(num)\n",
    "print(f\"The factorial of {num} is: {result}\")\n"
   ]
  },
  {
   "cell_type": "markdown",
   "id": "c971cee1-c8ff-46e4-915f-601747c526f7",
   "metadata": {},
   "source": [
    "3. Create a recursive Python function to find the nth Fibonacci number.\n"
   ]
  },
  {
   "cell_type": "code",
   "execution_count": 80,
   "id": "079286fe-f4a1-4e57-9ee6-2047516c64be",
   "metadata": {},
   "outputs": [
    {
     "name": "stdin",
     "output_type": "stream",
     "text": [
      "Enter the value of n to find the nth Fibonacci number:  5\n"
     ]
    },
    {
     "name": "stdout",
     "output_type": "stream",
     "text": [
      "The 5th Fibonacci number is: 5\n"
     ]
    }
   ],
   "source": [
    "def fibonacci(n):\n",
    "    # Base cases\n",
    "    if n == 0:\n",
    "        return 0\n",
    "    elif n == 1:\n",
    "        return 1\n",
    "    # Recursive case\n",
    "    else:\n",
    "        return fibonacci(n-1) + fibonacci(n-2)\n",
    "\n",
    "# Get input from the user\n",
    "num = int(input(\"Enter the value of n to find the nth Fibonacci number: \"))\n",
    "\n",
    "# Call the fibonacci function and display the result\n",
    "result = fibonacci(num)\n",
    "print(f\"The {num}th Fibonacci number is: {result}\")\n"
   ]
  },
  {
   "cell_type": "markdown",
   "id": "107186c8-81e7-4f89-bf6e-632f0934d538",
   "metadata": {},
   "source": [
    "4. Write a recursive Python function to calculate the sum of all elements in a list.\n"
   ]
  },
  {
   "cell_type": "code",
   "execution_count": 81,
   "id": "1b4b4f5e-96d9-4f94-ab7b-f183b4082afa",
   "metadata": {},
   "outputs": [
    {
     "name": "stdout",
     "output_type": "stream",
     "text": [
      "The sum of the elements in the list is: 15\n"
     ]
    }
   ],
   "source": [
    "def recursive_sum(lst):\n",
    "    # Base case: an empty list has a sum of 0\n",
    "    if not lst:\n",
    "        return 0\n",
    "    # Recursive case: sum the first element with the sum of the rest of the list\n",
    "    else:\n",
    "        return lst[0] + recursive_sum(lst[1:])\n",
    "\n",
    "# Example list\n",
    "numbers = [1, 2, 3, 4, 5]\n",
    "\n",
    "# Call the recursive_sum function and display the result\n",
    "result = recursive_sum(numbers)\n",
    "print(f\"The sum of the elements in the list is: {result}\")\n"
   ]
  },
  {
   "cell_type": "markdown",
   "id": "6af0f5ac-c151-436f-8547-9b4eed662b14",
   "metadata": {},
   "source": [
    "5. How can you prevent a recursive function from running indefinitely, causing a stack overflow error?\n"
   ]
  },
  {
   "cell_type": "markdown",
   "id": "c3e55267-9194-4f31-b313-1f0cc9339967",
   "metadata": {},
   "source": [
    "Preventing a recursive function from running indefinitely and causing a stack overflow error is crucial for the proper functioning of your program. To avoid this issue, you can follow these strategies:\n",
    "\n",
    "Base Case:\n",
    "\n",
    "Ensure that your recursive function has a well-defined base case. The base case is a condition that stops the recursion and provides a direct result without making further recursive calls. It serves as the termination condition for the recursion.\n",
    "Progress Towards Base Case:\n",
    "\n",
    "Ensure that the recursive calls move towards the base case. In other words, for each recursive call, the problem should be simplified in a way that brings it closer to the base case. This ensures that the recursive calls will eventually reach the base case.\n",
    "Check Inputs:\n",
    "\n",
    "If your recursive function relies on specific input conditions, check and validate the inputs before making recursive calls. This can prevent unexpected behavior or infinite recursion.\n",
    "Limit Recursion Depth:\n",
    "\n",
    "For some scenarios, you may want to limit the depth of recursion by setting a maximum recursion depth. You can achieve this by using an additional parameter to track the depth and checking it against a predefined limit.\n",
    "Here's an example with a recursive function to calculate the factorial with a base case, progress towards the base case, and input validation:\n",
    "\n",
    "\n",
    "\n",
    "\n",
    "\n",
    "\n"
   ]
  },
  {
   "cell_type": "code",
   "execution_count": 82,
   "id": "d759f305-7644-47ba-b6c2-925430bf556d",
   "metadata": {},
   "outputs": [
    {
     "name": "stdout",
     "output_type": "stream",
     "text": [
      "Factorial: 120\n"
     ]
    }
   ],
   "source": [
    "def factorial(n):\n",
    "    # Input validation\n",
    "    if not isinstance(n, int) or n < 0:\n",
    "        raise ValueError(\"Input must be a non-negative integer.\")\n",
    "\n",
    "    # Base case\n",
    "    if n == 0:\n",
    "        return 1\n",
    "    # Recursive case\n",
    "    else:\n",
    "        return n * factorial(n - 1)\n",
    "\n",
    "# Example usage\n",
    "try:\n",
    "    result = factorial(5)\n",
    "    print(\"Factorial:\", result)\n",
    "except ValueError as e:\n",
    "    print(f\"Error: {e}\")\n"
   ]
  },
  {
   "cell_type": "markdown",
   "id": "9367b3f5-ebc3-4a68-9284-c91beba9f30e",
   "metadata": {},
   "source": [
    "In this example, the function checks whether n is a non-negative integer before making recursive calls. If n is not a non-negative integer, a ValueError is raised, preventing the function from running indefinitely with invalid input.\n",
    "\n",
    "By implementing these strategies, you can help ensure that your recursive functions terminate appropriately and avoid stack overflow errors."
   ]
  },
  {
   "cell_type": "markdown",
   "id": "5e98d6c5-6340-4974-95c0-98b62cf2810e",
   "metadata": {},
   "source": [
    "6. Create a recursive Python function to find the greatest common divisor (GCD) of two numbers using the Euclidean algorithm.\n"
   ]
  },
  {
   "cell_type": "code",
   "execution_count": 83,
   "id": "785696fb-8b0c-4b07-b43b-1833a047fd83",
   "metadata": {},
   "outputs": [
    {
     "name": "stdout",
     "output_type": "stream",
     "text": [
      "The GCD of 48 and 18 is: 6\n"
     ]
    }
   ],
   "source": [
    "def euclidean_gcd(a, b):\n",
    "    # Base case\n",
    "    if b == 0:\n",
    "        return a\n",
    "    # Recursive case\n",
    "    else:\n",
    "        return euclidean_gcd(b, a % b)\n",
    "\n",
    "# Example usage\n",
    "num1 = 48\n",
    "num2 = 18\n",
    "\n",
    "result = euclidean_gcd(num1, num2)\n",
    "print(f\"The GCD of {num1} and {num2} is: {result}\")\n"
   ]
  },
  {
   "cell_type": "markdown",
   "id": "1ef67a35-979e-40be-b1ca-2a18ee7d88b3",
   "metadata": {},
   "source": [
    "7. Write a recursive Python function to reverse a string.\n"
   ]
  },
  {
   "cell_type": "code",
   "execution_count": 84,
   "id": "9d532818-4d74-4b21-b293-ac2449d82342",
   "metadata": {},
   "outputs": [
    {
     "name": "stdout",
     "output_type": "stream",
     "text": [
      "The original string: Hello, World!\n",
      "The reversed string: !dlroW ,olleH\n"
     ]
    }
   ],
   "source": [
    "def reverse_string(input_str):\n",
    "    # Base case: an empty string or a string with one character is its own reverse\n",
    "    if len(input_str) <= 1:\n",
    "        return input_str\n",
    "    # Recursive case: reverse the substring excluding the first character and concatenate it with the first character\n",
    "    else:\n",
    "        return reverse_string(input_str[1:]) + input_str[0]\n",
    "\n",
    "# Example usage\n",
    "original_string = \"Hello, World!\"\n",
    "\n",
    "reversed_string = reverse_string(original_string)\n",
    "print(f\"The original string: {original_string}\")\n",
    "print(f\"The reversed string: {reversed_string}\")\n"
   ]
  },
  {
   "cell_type": "markdown",
   "id": "d3c0c3b6-fe3d-48ed-a05f-7811733b7d46",
   "metadata": {},
   "source": [
    "8. Create a recursive Python function to calculate the power of a number (x^n).\n"
   ]
  },
  {
   "cell_type": "code",
   "execution_count": 85,
   "id": "d110e8b1-fe88-4f29-b1de-01163d1c1a34",
   "metadata": {},
   "outputs": [
    {
     "name": "stdout",
     "output_type": "stream",
     "text": [
      "2 raised to the power of 4 is: 16\n"
     ]
    }
   ],
   "source": [
    "def power(x, n):\n",
    "    # Base case: x^0 is 1\n",
    "    if n == 0:\n",
    "        return 1\n",
    "    # Recursive case: x^n = x * x^(n-1)\n",
    "    else:\n",
    "        return x * power(x, n-1)\n",
    "\n",
    "# Example usage\n",
    "base = 2\n",
    "exponent = 4\n",
    "\n",
    "result = power(base, exponent)\n",
    "print(f\"{base} raised to the power of {exponent} is: {result}\")\n"
   ]
  },
  {
   "cell_type": "markdown",
   "id": "31650d7b-400c-42c9-81b9-fd7fd38ea70b",
   "metadata": {},
   "source": [
    "9. Write a recursive Python function to find all permutations of a given string.\n"
   ]
  },
  {
   "cell_type": "code",
   "execution_count": 86,
   "id": "f73e7f39-31e7-4641-bc74-17c936f5e40a",
   "metadata": {},
   "outputs": [
    {
     "name": "stdout",
     "output_type": "stream",
     "text": [
      "All permutations of 'abc': ['abc', 'acb', 'bac', 'bca', 'cab', 'cba']\n"
     ]
    }
   ],
   "source": [
    "def permutations(input_str):\n",
    "    # Base case: if the string has only one character, return a list containing the string\n",
    "    if len(input_str) == 1:\n",
    "        return [input_str]\n",
    "\n",
    "    # Recursive case: generate permutations by fixing each character at the beginning\n",
    "    result = []\n",
    "    for i, char in enumerate(input_str):\n",
    "        remaining_chars = input_str[:i] + input_str[i+1:]\n",
    "        for perm in permutations(remaining_chars):\n",
    "            result.append(char + perm)\n",
    "\n",
    "    return result\n",
    "\n",
    "# Example usage\n",
    "input_string = \"abc\"\n",
    "\n",
    "result = permutations(input_string)\n",
    "print(f\"All permutations of '{input_string}': {result}\")\n"
   ]
  },
  {
   "cell_type": "markdown",
   "id": "bde2bef5-5e5f-4d4a-98dd-6801db4414ee",
   "metadata": {},
   "source": [
    "10. Write a recursive Python function to check if a string is a palindrome.\n"
   ]
  },
  {
   "cell_type": "code",
   "execution_count": 87,
   "id": "b31364c0-8b09-466a-8e3e-eabaa8ea2792",
   "metadata": {},
   "outputs": [
    {
     "name": "stdout",
     "output_type": "stream",
     "text": [
      "Is 'radar' a palindrome? True\n",
      "Is 'hello' a palindrome? False\n"
     ]
    }
   ],
   "source": [
    "def is_palindrome(input_str):\n",
    "    # Base case: an empty string or a string with one character is a palindrome\n",
    "    if len(input_str) <= 1:\n",
    "        return True\n",
    "    # Recursive case: check if the first and last characters are equal, and check the rest of the string\n",
    "    else:\n",
    "        return input_str[0] == input_str[-1] and is_palindrome(input_str[1:-1])\n",
    "\n",
    "# Example usage\n",
    "palindrome_str = \"radar\"\n",
    "non_palindrome_str = \"hello\"\n",
    "\n",
    "result_palindrome = is_palindrome(palindrome_str)\n",
    "result_non_palindrome = is_palindrome(non_palindrome_str)\n",
    "\n",
    "print(f\"Is '{palindrome_str}' a palindrome? {result_palindrome}\")\n",
    "print(f\"Is '{non_palindrome_str}' a palindrome? {result_non_palindrome}\")\n"
   ]
  },
  {
   "cell_type": "markdown",
   "id": "7461a2cb-8fc8-4533-b501-16ade93ee30d",
   "metadata": {},
   "source": [
    "11. Create a recursive Python function to generate all possible combinations of a list of elements.\n"
   ]
  },
  {
   "cell_type": "code",
   "execution_count": 88,
   "id": "63c9aa24-bda5-46d9-81a0-23797d67b31e",
   "metadata": {},
   "outputs": [
    {
     "name": "stdout",
     "output_type": "stream",
     "text": [
      "All combinations of [1, 2, 3]: [[], [3], [2], [2, 3], [1], [1, 3], [1, 2], [1, 2, 3]]\n"
     ]
    }
   ],
   "source": [
    "def combinations(elements):\n",
    "    # Base case: if the list is empty, return a list with an empty combination\n",
    "    if not elements:\n",
    "        return [[]]\n",
    "\n",
    "    # Recursive case: generate combinations by including or excluding the first element\n",
    "    first_element = elements[0]\n",
    "    rest_combinations = combinations(elements[1:])\n",
    "\n",
    "    # Combinations without including the first element\n",
    "    without_first_element = rest_combinations\n",
    "\n",
    "    # Combinations including the first element\n",
    "    with_first_element = [[first_element] + combo for combo in rest_combinations]\n",
    "\n",
    "    # Combine both sets of combinations\n",
    "    result = without_first_element + with_first_element\n",
    "\n",
    "    return result\n",
    "\n",
    "# Example usage\n",
    "input_elements = [1, 2, 3]\n",
    "\n",
    "result = combinations(input_elements)\n",
    "print(f\"All combinations of {input_elements}: {result}\")\n"
   ]
  },
  {
   "cell_type": "markdown",
   "id": "d44d92c5-b020-441d-8d83-06cc327f62cf",
   "metadata": {},
   "source": [
    "\n",
    "Basics of Functions:\n",
    "\n",
    "What is a function in Python, and why is it used?\n"
   ]
  },
  {
   "cell_type": "markdown",
   "id": "bb04393f-7127-4ac0-a333-70c613820115",
   "metadata": {},
   "source": [
    "In Python, a function is a reusable block of code that performs a specific task or a set of tasks. Functions are a fundamental concept in programming and serve several purposes:\n",
    "\n",
    "Modularity:\n",
    "\n",
    "Functions allow you to break down a program into smaller, manageable pieces. Each function can focus on a specific task, making the overall program more modular and easier to understand.\n",
    "\n",
    "Reusability:\n",
    "\n",
    "Once a function is defined, it can be reused multiple times throughout your program. This promotes code reusability, reducing redundancy and making it easier to maintain and update your code.\n",
    "\n",
    "Abstraction:\n",
    "\n",
    "Functions provide a level of abstraction, allowing you to use a piece of code without needing to understand its internal details. This makes code more readable and helps hide complexity.\n",
    "\n",
    "Parameterization:\n",
    "\n",
    "Functions can take parameters (inputs), allowing them to work with different data. By parameterizing functions, you can write more generic and flexible code.\n",
    "\n",
    "Return Values:\n",
    "\n",
    "Functions can return values, allowing them to produce results that can be used elsewhere in your program. This is essential for obtaining output from a function.\n",
    "Namespace Isolation:\n",
    "\n",
    "Functions create their own namespace, preventing variable naming conflicts. Variables defined inside a function are local to that function and do not affect variables outside the function.\n",
    "Here's a simple example of a Python function:"
   ]
  },
  {
   "cell_type": "code",
   "execution_count": 28,
   "id": "b8d701fd-bb79-4b29-aeaf-76e6bbde1766",
   "metadata": {},
   "outputs": [
    {
     "name": "stdout",
     "output_type": "stream",
     "text": [
      "Hello, Ketaki!\n",
      "Hello, Shravan!\n"
     ]
    }
   ],
   "source": [
    "def greet(name):\n",
    "    \"\"\"This function greets the person passed in as a parameter.\"\"\"\n",
    "    print(f\"Hello, {name}!\")\n",
    "\n",
    "# Using the function\n",
    "greet(\"Ketaki\")\n",
    "greet(\"Shravan\")\n"
   ]
  },
  {
   "cell_type": "markdown",
   "id": "9e608b4d-7876-4a77-b3c7-ac9ed91999db",
   "metadata": {},
   "source": [
    "In this example:\n",
    "\n",
    "The greet function takes a parameter name.\n",
    "It prints a greeting message using the provided name.\n",
    "The function is then called with different names, demonstrating how it can be reused with different inputs.\n",
    "In summary, functions in Python provide a way to structure and organize code, promote reusability, and make programs more modular and maintainable. They are a fundamental building block in programming and are used to encapsulate logic and actions into named, reusable units."
   ]
  },
  {
   "cell_type": "markdown",
   "id": "09815566-6466-4a5f-b235-bf15e8c2d424",
   "metadata": {},
   "source": [
    "2. How do you define a function in Python? Provide an example.\n"
   ]
  },
  {
   "cell_type": "markdown",
   "id": "ac52376e-6dd9-4fb9-8a22-216c7c1ba37e",
   "metadata": {},
   "source": [
    "\n",
    "In Python, you can define a function using the def keyword. Here's the basic syntax for defining a function:"
   ]
  },
  {
   "cell_type": "code",
   "execution_count": 1,
   "id": "b1ae4b3c-8bea-4b00-8a52-1a193719cd56",
   "metadata": {},
   "outputs": [],
   "source": [
    "def function_name(parameters):\n",
    "    # Function body\n",
    "    # Code to be executed\n",
    "    return result  # Optional return statement\n"
   ]
  },
  {
   "cell_type": "code",
   "execution_count": 2,
   "id": "953105dd-7b23-4cb2-9869-edbbdc67b12c",
   "metadata": {},
   "outputs": [
    {
     "name": "stdout",
     "output_type": "stream",
     "text": [
      "7\n"
     ]
    }
   ],
   "source": [
    "#Here's an example of a simple function that adds two numbers:\n",
    "def add_numbers(a, b):\n",
    "    sum_result = a + b\n",
    "    return sum_result\n",
    "\n",
    "# Example usage:\n",
    "result = add_numbers(3, 4)\n",
    "print(result)  # Output: 7\n"
   ]
  },
  {
   "cell_type": "markdown",
   "id": "c8eb19f9-b772-4027-bc66-969f18574fee",
   "metadata": {},
   "source": [
    "In this example:\n",
    "\n",
    "add_numbers is the name of the function.\n",
    "(a, b) are the parameters the function takes. In this case, the function takes two parameters, a and b.\n",
    "The function body consists of the code that is executed when the function is called.\n",
    "return sum_result specifies the value that the function should return. In this case, it returns the sum of a and b.\n",
    "You can then call the function by providing values for its parameters, and it will execute the code inside the function, returning the result if there is a return statement."
   ]
  },
  {
   "cell_type": "markdown",
   "id": "e749a362-601d-4625-b60b-ee457be20a94",
   "metadata": {},
   "source": [
    "3.Explain the difference between a function definition and a function call.\n"
   ]
  },
  {
   "cell_type": "markdown",
   "id": "80bbaad1-72f1-4b9b-bc18-a15751598d77",
   "metadata": {},
   "source": [
    "In Python, a function definition and a function call serve different purposes in the process of creating and executing code.\n",
    "\n",
    "Function Definition:\n",
    "\n",
    "Purpose: A function definition is where you specify the behavior of a function. It's where you define what the function does when it's called.\n",
    "Syntax:"
   ]
  },
  {
   "cell_type": "code",
   "execution_count": 3,
   "id": "9825bcc3-8f19-4057-ac77-15440599f634",
   "metadata": {},
   "outputs": [],
   "source": [
    "def function_name(parameters):\n",
    "    # Function body\n",
    "    # Code to be executed\n",
    "    return result  # Optional return statement\n"
   ]
  },
  {
   "cell_type": "code",
   "execution_count": 4,
   "id": "0f235d0a-2c09-4a25-ad92-536b2bb51675",
   "metadata": {},
   "outputs": [],
   "source": [
    "#Example:\n",
    "def add_numbers(a, b):\n",
    "    sum_result = a + b\n",
    "    return sum_result\n"
   ]
  },
  {
   "cell_type": "markdown",
   "id": "691da3cd-0fb5-4416-99af-33b04bd65295",
   "metadata": {},
   "source": [
    "Function Call:\n",
    "\n",
    "Purpose: A function call is when you actually invoke or execute the function that you have defined. It is where you provide specific values (arguments) for the parameters defined in the function and obtain the result.\n",
    "Syntax:"
   ]
  },
  {
   "cell_type": "markdown",
   "id": "40f95ff9-e76c-4b9c-8028-8ce1e0f3eee5",
   "metadata": {},
   "source": [
    "result = function_name(arguments)\n"
   ]
  },
  {
   "cell_type": "code",
   "execution_count": 5,
   "id": "6b28b1c6-e4d6-4576-a40e-24c1db8f42a8",
   "metadata": {},
   "outputs": [],
   "source": [
    "#Example:\n",
    "result = add_numbers(3, 4)\n"
   ]
  },
  {
   "cell_type": "markdown",
   "id": "17d7d732-dec3-4f25-8a94-1622ebef3517",
   "metadata": {},
   "source": [
    "Explanation:\n",
    "\n",
    "add_numbers is the function name.\n",
    "(3, 4) are the arguments or values passed to the function for the parameters a and b.\n",
    "The function is executed with these specific values, and the result is assigned to the variable result.\n",
    "In summary, a function definition is where you define the structure and behavior of a function, specifying what it does and what parameters it takes. On the other hand, a function call is when you actually use the function, providing concrete values for its parameters and obtaining the result. The definition is like creating a blueprint, and the call is like using that blueprint to build something (get a result) for specific inputs."
   ]
  },
  {
   "cell_type": "markdown",
   "id": "38f54e75-55a4-4cf7-ab73-d274c0dbe8d9",
   "metadata": {},
   "source": [
    "4. Write a Python program that defines a function to calculate the sum of two numbers and then calls the function.\n"
   ]
  },
  {
   "cell_type": "code",
   "execution_count": 6,
   "id": "43ea6633-a719-4deb-bb92-183bba8cff93",
   "metadata": {},
   "outputs": [
    {
     "name": "stdin",
     "output_type": "stream",
     "text": [
      "Enter the first number:  7\n",
      "Enter the second number:  9\n"
     ]
    },
    {
     "name": "stdout",
     "output_type": "stream",
     "text": [
      "The sum of 7.0 and 9.0 is: 16.0\n"
     ]
    }
   ],
   "source": [
    "def calculate_sum(a, b):\n",
    "    \"\"\"This function calculates the sum of two numbers.\"\"\"\n",
    "    result = a + b\n",
    "    return result\n",
    "\n",
    "# Get user input for two numbers\n",
    "num1 = float(input(\"Enter the first number: \"))\n",
    "num2 = float(input(\"Enter the second number: \"))\n",
    "\n",
    "# Call the function with user input and store the result\n",
    "sum_result = calculate_sum(num1, num2)\n",
    "\n",
    "# Display the result\n",
    "print(f\"The sum of {num1} and {num2} is: {sum_result}\")\n"
   ]
  },
  {
   "cell_type": "markdown",
   "id": "8c5dff48-e63b-402a-94e8-32b845fdabad",
   "metadata": {},
   "source": [
    "5. What is a function signature, and what information does it typically include?\n"
   ]
  },
  {
   "cell_type": "markdown",
   "id": "72d5f877-2193-42e7-a55a-d0d61e3747ab",
   "metadata": {},
   "source": [
    "The function signature in Python refers to the declaration line of a function, which includes essential information about the function. It does not include the function body, which is the block of code inside the function. The function signature typically includes the following components:\n",
    "\n",
    "Function Name:\n",
    "\n",
    "The name that identifies the function. It should follow the rules for naming identifiers in Python.\n",
    "Parameters:\n",
    "\n",
    "The list of parameters (inputs) that the function accepts. Parameters are the values that you can pass to the function when calling it.\n",
    "Return Type:\n",
    "\n",
    "The data type of the value that the function returns. If a function doesn't return any value, the return type is typically specified as None.\n",
    "Annotations (Optional):\n",
    "\n",
    "Type annotations provide hints about the types of the parameters and the return value. While not mandatory, they can improve code readability and are used by tools like type checkers.\n",
    "The general syntax of a function signature in Python is as follows:"
   ]
  },
  {
   "cell_type": "code",
   "execution_count": 8,
   "id": "923a4f7e-3056-4053-92a6-ecc4273eb93c",
   "metadata": {},
   "outputs": [],
   "source": [
    "#def function_name(parameter1: type, parameter2: type, ...) -> return_type:\n"
   ]
  },
  {
   "cell_type": "code",
   "execution_count": 9,
   "id": "917e06d9-eeb2-4452-97cb-7436394c22bd",
   "metadata": {},
   "outputs": [],
   "source": [
    "#Here's an example with a simple function signature:"
   ]
  },
  {
   "cell_type": "markdown",
   "id": "d6fac8e1-c50a-474f-b036-b1f81972a119",
   "metadata": {},
   "source": [
    "def add_numbers(a: int, b: int) -> int:\n",
    "    return a + b\n"
   ]
  },
  {
   "cell_type": "markdown",
   "id": "e7ef9d50-32db-428e-a1b8-cc52544828e5",
   "metadata": {},
   "source": [
    "In this example:\n",
    "\n",
    "add_numbers is the function name.\n",
    "(a: int, b: int) are the parameters with their corresponding types.\n",
    "-> int indicates that the function returns an integer.\n",
    "It's important to note that Python is dynamically typed, so specifying types in the function signature is optional and more for documentation and clarity rather than enforcement. However, type hints can be used by tools and IDEs for static analysis and code completion."
   ]
  },
  {
   "cell_type": "markdown",
   "id": "166c68d0-deea-48f4-b49f-ffca7ba4705b",
   "metadata": {},
   "source": [
    "6. Create a Python function that takes two arguments and returns their product.\n"
   ]
  },
  {
   "cell_type": "code",
   "execution_count": 10,
   "id": "81f7f0ef-48b2-4192-ab7e-28c2c8395d05",
   "metadata": {},
   "outputs": [
    {
     "name": "stdout",
     "output_type": "stream",
     "text": [
      "The product of 5 and 3 is: 15\n"
     ]
    }
   ],
   "source": [
    "def calculate_product(a, b):\n",
    "    \"\"\"This function calculates the product of two numbers.\"\"\"\n",
    "    product_result = a * b\n",
    "    return product_result\n",
    "\n",
    "# Example usage:\n",
    "num1 = 5\n",
    "num2 = 3\n",
    "result = calculate_product(num1, num2)\n",
    "print(f\"The product of {num1} and {num2} is: {result}\")\n"
   ]
  },
  {
   "cell_type": "code",
   "execution_count": null,
   "id": "90d77490-2b3e-4d0a-a48a-e6ca32fa916c",
   "metadata": {},
   "outputs": [],
   "source": []
  },
  {
   "cell_type": "markdown",
   "id": "f34d7ccf-d926-49b4-9873-569cfbb35043",
   "metadata": {},
   "source": [
    "Function Parameters and Arguments:\n",
    "\n",
    "1. Explain the concepts of formal parameters and actual arguments in Python functions.\n"
   ]
  },
  {
   "cell_type": "markdown",
   "id": "67b9fa80-34e3-48bc-8710-4c082a10baf8",
   "metadata": {},
   "source": [
    "In Python functions, the terms \"formal parameters\" and \"actual arguments\" refer to the variables and values used during the definition and invocation of a function, respectively.\n",
    "\n",
    "1. Formal Parameters:\n",
    "\n",
    "Definition: Formal parameters are the variables listed in the function definition. They act as placeholders for the values that will be supplied when the function is called.\n",
    "Syntax: Formal parameters are declared inside the parentheses of the function definition.\n",
    "\n",
    "Example:"
   ]
  },
  {
   "cell_type": "code",
   "execution_count": 11,
   "id": "b46bb28c-18a6-456d-8145-cc13cbdc5633",
   "metadata": {},
   "outputs": [],
   "source": [
    "def add_numbers(x, y):\n",
    "    # x and y are formal parameters\n",
    "    result = x + y\n",
    "    return result\n"
   ]
  },
  {
   "cell_type": "markdown",
   "id": "97412acd-3f64-4abb-bf45-36b5df28f50b",
   "metadata": {},
   "source": [
    "In this example, x and y are formal parameters. They are variables that will be used within the function to perform calculations.\n",
    "\n",
    "2. Actual Arguments (or Arguments):\n",
    "\n",
    "Definition: Actual arguments are the values passed to a function when it is called. These values are assigned to the corresponding formal parameters.\n",
    "Syntax: Actual arguments are provided inside the parentheses during the function call.\n",
    "\n",
    "Example:"
   ]
  },
  {
   "cell_type": "code",
   "execution_count": 12,
   "id": "4da7e22e-7625-466b-bfeb-e1d1c095dc56",
   "metadata": {},
   "outputs": [],
   "source": [
    "result = add_numbers(3, 4)\n",
    "# 3 and 4 are actual arguments\n"
   ]
  },
  {
   "cell_type": "markdown",
   "id": "02e8dcb5-8ea3-4a4e-bcee-d41c09376f07",
   "metadata": {},
   "source": [
    "In this example, 3 and 4 are actual arguments. They are the specific values that will be used for x and y when the add_numbers function is called.\n",
    "\n",
    "In summary, formal parameters are like variables defined in a function's signature, serving as placeholders for values that will be provided during the function call. Actual arguments are the specific values that are supplied when the function is invoked, and they are matched with the formal parameters based on their order. The values assigned to formal parameters during a function call are referred to as actual arguments."
   ]
  },
  {
   "cell_type": "markdown",
   "id": "7ffa10e8-927f-4506-bf21-25afdf658f79",
   "metadata": {},
   "source": [
    "2. Write a Python program that defines a function with default argument values.\n"
   ]
  },
  {
   "cell_type": "code",
   "execution_count": 14,
   "id": "3cec2a85-afd5-463d-bd77-0e071c3ac8dc",
   "metadata": {},
   "outputs": [
    {
     "name": "stdout",
     "output_type": "stream",
     "text": [
      "Hello, Hello!\n",
      "Hi, Ketaki!\n"
     ]
    }
   ],
   "source": [
    "def greet(name, greeting=\"Hello\"):\n",
    "    \"\"\"This function greets a person with a default greeting.\"\"\"\n",
    "    print(f\"{greeting}, {name}!\")\n",
    "\n",
    "# Example usage without providing the 'greeting' argument\n",
    "greet(\"Hello\")  # Output: Hello, Alice!\n",
    "\n",
    "# Example usage providing a custom 'greeting' argument\n",
    "greet(\"Ketaki\", \"Hi\")  # Output: Hi, Bob!\n"
   ]
  },
  {
   "cell_type": "markdown",
   "id": "89595004-2cdd-4a7e-bb06-bdb18c8b7dc9",
   "metadata": {},
   "source": [
    "3. How do you use keyword arguments in Python function calls? Provide an example.\n"
   ]
  },
  {
   "cell_type": "markdown",
   "id": "19f63772-bf3a-47bd-a8aa-3a2145e610c2",
   "metadata": {},
   "source": [
    "In Python, you can use keyword arguments in function calls by explicitly specifying the parameter names and their corresponding values. This allows you to provide arguments to a function in a different order or only for specific parameters. Here's an\n",
    "\n",
    "example:"
   ]
  },
  {
   "cell_type": "code",
   "execution_count": 27,
   "id": "da327dae-fb36-476d-b969-9635c74ba240",
   "metadata": {},
   "outputs": [
    {
     "name": "stdout",
     "output_type": "stream",
     "text": [
      "Ketaki is 25 years old and lives in Unknown.\n",
      "Kundan is 30 years old and lives in Pune.\n"
     ]
    }
   ],
   "source": [
    "def describe_person(name, age, city=\"Unknown\"):\n",
    "    \"\"\"This function describes a person with a default city.\"\"\"\n",
    "    print(f\"{name} is {age} years old and lives in {city}.\")\n",
    "\n",
    "# Example usage with positional and keyword arguments\n",
    "describe_person(\"Ketaki\", 25)  # Output: Alice is 25 years old and lives in Unknown.\n",
    "\n",
    "describe_person(\"Kundan\", 30, city=\"Pune\")  # Output: Bob is 30 years old and lives in New York.\n"
   ]
  },
  {
   "cell_type": "markdown",
   "id": "319c4247-cb0a-4702-9ef0-6607c8d1627f",
   "metadata": {},
   "source": [
    "The describe_person function has three parameters: name, age, and city (with a default value of \"Unknown\" for city).\n",
    "When calling the function, you provide values for name and age as positional arguments.\n",
    "You can use a keyword argument to explicitly provide a value for the city parameter, overriding its default value.\n",
    "The second function call demonstrates the use of a keyword argument (city=\"New York\") to specify a value for the city parameter while leaving the default value for name and age.\n",
    "\n",
    "Using keyword arguments can enhance the readability of your code, especially when dealing with functions that have many parameters or when you want to make the code more self-explanatory."
   ]
  },
  {
   "cell_type": "markdown",
   "id": "c23a7f9d-bd0f-4254-a5db-d972a4a937bf",
   "metadata": {},
   "source": [
    "4. Create a Python function that accepts a variable number of arguments and calculates their sum.\n"
   ]
  },
  {
   "cell_type": "code",
   "execution_count": 16,
   "id": "3901ca4f-ebf8-4ca0-a901-22738577e139",
   "metadata": {},
   "outputs": [
    {
     "name": "stdout",
     "output_type": "stream",
     "text": [
      "The sum is: 15\n",
      "The sum is: 60\n"
     ]
    }
   ],
   "source": [
    "def calculate_sum(*args):\n",
    "    \"\"\"This function calculates the sum of variable arguments.\"\"\"\n",
    "    return sum(args)\n",
    "\n",
    "# Example usage\n",
    "result = calculate_sum(1, 2, 3, 4, 5)\n",
    "print(f\"The sum is: {result}\")  # Output: The sum is: 15\n",
    "\n",
    "result = calculate_sum(10, 20, 30)\n",
    "print(f\"The sum is: {result}\")  # Output: The sum is: 60\n"
   ]
  },
  {
   "cell_type": "markdown",
   "id": "d78e8b02-0e6b-4298-a002-4d888cd5420b",
   "metadata": {},
   "source": [
    "5. What is the purpose of the `*args` and `**kwargs` syntax in function parameter lists?\n"
   ]
  },
  {
   "cell_type": "markdown",
   "id": "0f45ffb3-7d29-4fe7-af2b-622f0f3a5152",
   "metadata": {},
   "source": [
    "In Python, the *args and **kwargs syntax in function parameter lists allow you to define functions that can accept a variable number of arguments."
   ]
  },
  {
   "cell_type": "markdown",
   "id": "5a0e4f34-30ed-4bcd-bee9-dc659c82d2ca",
   "metadata": {},
   "source": [
    "1. *args: Variable Positional Arguments\n",
    "\n",
    "Purpose:\n",
    "*args allows a function to accept a variable number of positional arguments. It collects these arguments into a tuple.\n",
    "Syntax:"
   ]
  },
  {
   "cell_type": "code",
   "execution_count": 18,
   "id": "19a13a56-4d43-498d-bff6-5cbf00e6e821",
   "metadata": {},
   "outputs": [],
   "source": [
    "#def function_name(arg1, arg2, *args):\n",
    "    # Function body\n"
   ]
  },
  {
   "cell_type": "code",
   "execution_count": 19,
   "id": "bd75baef-bec6-4e66-b94c-cdcac7a246e3",
   "metadata": {},
   "outputs": [],
   "source": [
    "#Example:\n",
    "def sum_values(*args):\n",
    "    return sum(args)\n"
   ]
  },
  {
   "cell_type": "code",
   "execution_count": 20,
   "id": "8dc95383-de92-4f55-8ed0-1136ce7788da",
   "metadata": {},
   "outputs": [
    {
     "name": "stdout",
     "output_type": "stream",
     "text": [
      "15\n"
     ]
    }
   ],
   "source": [
    "#Usage:\n",
    "result = sum_values(1, 2, 3, 4, 5)\n",
    "print(result)  \n"
   ]
  },
  {
   "cell_type": "markdown",
   "id": "f8206802-acbb-460f-963d-42251f5fb9bc",
   "metadata": {},
   "source": [
    "2. **kwargs: Variable Keyword Arguments\n",
    "\n",
    "Purpose:\n",
    "**kwargs allows a function to accept a variable number of keyword arguments. \n",
    "It collects these arguments into a dictionary."
   ]
  },
  {
   "cell_type": "code",
   "execution_count": 21,
   "id": "8c905f99-f76f-41d7-9ec2-a935de4f1b1e",
   "metadata": {},
   "outputs": [],
   "source": [
    "#Syntax:\n",
    "#def function_name(arg1, arg2, **kwargs):\n",
    "    # Function body\n"
   ]
  },
  {
   "cell_type": "code",
   "execution_count": 22,
   "id": "f2433502-f28e-4904-b9e5-55c13f24d655",
   "metadata": {},
   "outputs": [],
   "source": [
    "#Example:\n",
    "def print_info(**kwargs):\n",
    "    for key, value in kwargs.items():\n",
    "        print(f\"{key}: {value}\")\n"
   ]
  },
  {
   "cell_type": "code",
   "execution_count": 26,
   "id": "e92db453-c57e-42f7-8c1c-b28e14fa5db1",
   "metadata": {},
   "outputs": [
    {
     "name": "stdout",
     "output_type": "stream",
     "text": [
      "name: Ketaki\n",
      "age: 25\n",
      "city: Pune\n"
     ]
    }
   ],
   "source": [
    "#Usage:\n",
    "print_info(name=\"Ketaki\", age=25, city=\"Pune\")\n"
   ]
  },
  {
   "cell_type": "markdown",
   "id": "25197e35-7106-4929-8141-856c010613e0",
   "metadata": {},
   "source": [
    "Combined Usage:\n",
    "\n",
    "You can also use both *args and **kwargs in the same function definition if you want to accept any combination of positional and keyword arguments.\n"
   ]
  },
  {
   "cell_type": "code",
   "execution_count": 25,
   "id": "ef8aaeb4-1413-44ea-a9b2-5bfdeb3430ca",
   "metadata": {},
   "outputs": [],
   "source": [
    "#def example_function(arg1, *args, kwarg1=\"default\", **kwargs):\n",
    "    # Function body\n"
   ]
  },
  {
   "cell_type": "markdown",
   "id": "e5fa327c-3ba8-4bb3-98cb-5f0fb53fa5a8",
   "metadata": {},
   "source": [
    "These features provide flexibility when designing functions that need to handle various inputs. They are particularly useful when creating higher-order functions, decorators, or functions that interact with external APIs where the number and names of arguments might vary. The names args and kwargs are conventional and not mandatory; you can use any valid identifier after the * or ** symbols."
   ]
  },
  {
   "cell_type": "markdown",
   "id": "64aa09e8-e544-4ea9-8cf1-4a6f89022217",
   "metadata": {},
   "source": [
    "\n",
    "Return Values and Scoping:\n",
    "\n",
    "1. Describe the role of the `return` statement in Python functions and provide examples.\n",
    "\n"
   ]
  },
  {
   "cell_type": "markdown",
   "id": "354102d0-6656-4bed-9662-c10bf576e32c",
   "metadata": {},
   "source": [
    "The return statement in Python functions is used to exit the function and return a value to the caller. \n",
    "\n",
    "It allows a function to send a result back to the code that called the function, enabling the reuse of the calculated or processed value.\n",
    "\n",
    "Here are key points about the return statement:"
   ]
  },
  {
   "cell_type": "markdown",
   "id": "d45a46f7-50b6-4b7b-8e29-de5cf91c3c0b",
   "metadata": {},
   "source": [
    "1. Exiting the Function:\n",
    "\n",
    "When a return statement is encountered in a function, the function immediately exits, and the flow of control returns to the point in the code that called the function."
   ]
  },
  {
   "cell_type": "markdown",
   "id": "1f5f267e-d666-4948-96a9-db85a8a1dfc2",
   "metadata": {},
   "source": [
    "2. Returning a Value:\n",
    "\n",
    "The return statement is often followed by an expression or a value. \n",
    "\n",
    "This expression or value is the result that the function provides to the caller."
   ]
  },
  {
   "cell_type": "markdown",
   "id": "bb48e839-7175-4e36-8c86-9ca5b2b51e19",
   "metadata": {},
   "source": [
    "3. Optional or Multiple Return Statements:\n",
    "\n",
    "Functions can have multiple return statements, but only one of them is executed during the function call. \n",
    "\n",
    "The choice of which return statement to execute depends on the conditions specified in the function."
   ]
  },
  {
   "cell_type": "markdown",
   "id": "f81abcf0-7eff-4883-9c88-11de9367cce6",
   "metadata": {},
   "source": [
    "4.Void (No Return):\n",
    "\n",
    "If a function does not have a return statement or has a return statement without an expression, it implicitly returns None.\n",
    "\n",
    "Functions without a return statement are also referred to as \"void\" functions."
   ]
  },
  {
   "cell_type": "markdown",
   "id": "7fdcbc96-8e87-4e92-8f0f-e82b96a50320",
   "metadata": {},
   "source": [
    "Here are examples to illustrate the use of the return statement:"
   ]
  },
  {
   "cell_type": "code",
   "execution_count": 30,
   "id": "45b7ada7-ab5d-4a24-901e-9e895c66f28b",
   "metadata": {},
   "outputs": [
    {
     "name": "stdout",
     "output_type": "stream",
     "text": [
      "7\n"
     ]
    }
   ],
   "source": [
    "#Example 1: Returning a Calculated Value\n",
    "\n",
    "def add_numbers(a, b):\n",
    "    sum_result = a + b\n",
    "    return sum_result\n",
    "\n",
    "result = add_numbers(3, 4)\n",
    "print(result)  \n"
   ]
  },
  {
   "cell_type": "code",
   "execution_count": 33,
   "id": "3e30b76c-d1f0-4cc4-a8ec-c7fec342af11",
   "metadata": {},
   "outputs": [
    {
     "name": "stdout",
     "output_type": "stream",
     "text": [
      "Hello, Ketaki!\n",
      "None\n"
     ]
    }
   ],
   "source": [
    "#Example 2: Returning None (Void Function)\n",
    "def greet(name):\n",
    "    print(f\"Hello, {name}!\")\n",
    "\n",
    "result = greet(\"Ketaki\")\n",
    "print(result)  "
   ]
  },
  {
   "cell_type": "code",
   "execution_count": 34,
   "id": "1d3dde8f-13d3-4714-a59b-df5d3522f621",
   "metadata": {},
   "outputs": [
    {
     "name": "stdout",
     "output_type": "stream",
     "text": [
      "Positive\n",
      "Negative\n",
      "Zero\n"
     ]
    }
   ],
   "source": [
    "#Example 3: Multiple Return Statements\n",
    "def check_number(x):\n",
    "    if x > 0:\n",
    "        return \"Positive\"\n",
    "    elif x < 0:\n",
    "        return \"Negative\"\n",
    "    else:\n",
    "        return \"Zero\"\n",
    "\n",
    "result1 = check_number(5)\n",
    "result2 = check_number(-2)\n",
    "result3 = check_number(0)\n",
    "\n",
    "print(result1)  # Output: Positive\n",
    "print(result2)  # Output: Negative\n",
    "print(result3)  # Output: Zero\n"
   ]
  },
  {
   "cell_type": "markdown",
   "id": "a32a9f86-21b2-414d-ac5e-be836a4ebf19",
   "metadata": {},
   "source": [
    "In the third example, the function check_number has multiple return statements, and the appropriate one is executed based on the condition. Each return statement provides a different result to the caller."
   ]
  },
  {
   "cell_type": "markdown",
   "id": "da8e3e9d-6744-4cee-a5d4-62420ff5a878",
   "metadata": {},
   "source": [
    "2. Explain the concept of variable scope in Python, including local and global variables.\n"
   ]
  },
  {
   "cell_type": "markdown",
   "id": "71f1fbe0-4a80-41cd-bd9c-26bb17d0ad69",
   "metadata": {},
   "source": [
    "In Python, the concept of variable scope refers to the region of the program in which a variable can be accessed or modified. The scope of a variable is determined by where it is defined in the code, and it influences where the variable can be used. There are two main types of variable scope in Python: local and global."
   ]
  },
  {
   "cell_type": "markdown",
   "id": "b7ae15f1-6ecd-400e-b205-37d1f91a6cd5",
   "metadata": {},
   "source": [
    "1.Local Variables:\n",
    "    A local variable is one that is defined within a specific function or block of code.\n",
    "It is only accessible within that function or block and cannot be used outside of it.\n",
    "Once the function or block of code is executed, the local variable is destroyed, and its memory is freed."
   ]
  },
  {
   "cell_type": "code",
   "execution_count": 1,
   "id": "7685c471-295f-4648-98e5-5d061f9db45f",
   "metadata": {},
   "outputs": [
    {
     "name": "stdout",
     "output_type": "stream",
     "text": [
      "10\n"
     ]
    }
   ],
   "source": [
    "#example->\n",
    "def example_function():\n",
    "    x = 10  # This is a local variable\n",
    "    print(x)\n",
    "\n",
    "example_function()\n",
    "# print(x)  # This would result in an error because x is not defined in this scope\n"
   ]
  },
  {
   "cell_type": "markdown",
   "id": "bbe508fa-4c7d-42fd-8492-f398a96c0e9d",
   "metadata": {},
   "source": [
    "2.Global Variables:\n",
    "\n",
    "A global variable is defined outside of any function or block of code and is accessible throughout the entire program.\n",
    "Global variables can be accessed and modified by any part of the code, including functions."
   ]
  },
  {
   "cell_type": "code",
   "execution_count": 2,
   "id": "610aa2e5-19da-4e46-978e-3cd856fd10f6",
   "metadata": {},
   "outputs": [
    {
     "name": "stdout",
     "output_type": "stream",
     "text": [
      "20\n",
      "20\n"
     ]
    }
   ],
   "source": [
    "#example\n",
    "y = 20  # This is a global variable\n",
    "\n",
    "def another_function():\n",
    "    print(y)  # Accessing the global variable\n",
    "\n",
    "another_function()\n",
    "print(y)  # Accessing the global variable outside the function\n"
   ]
  },
  {
   "cell_type": "markdown",
   "id": "760e76e7-8756-4bc4-9244-7754d6792b26",
   "metadata": {},
   "source": [
    "If you want to modify a global variable within a function, you need to use the global keyword:"
   ]
  },
  {
   "cell_type": "code",
   "execution_count": 3,
   "id": "b6d43255-9626-4bc2-b799-90f9bbf1f7f8",
   "metadata": {},
   "outputs": [
    {
     "name": "stdout",
     "output_type": "stream",
     "text": [
      "40\n"
     ]
    }
   ],
   "source": [
    "z = 30  # This is a global variable\n",
    "\n",
    "def modify_global():\n",
    "    global z\n",
    "    z = 40\n",
    "\n",
    "modify_global()\n",
    "print(z)  # The global variable has been modified within the function\n"
   ]
  },
  {
   "cell_type": "markdown",
   "id": "b785d274-ccd4-4c98-837a-2ac5731956cc",
   "metadata": {},
   "source": [
    "It's important to note that while global variables can be accessed from within functions, modifying them directly within a function (without using the global keyword) creates a new local variable with the same name instead of modifying the global variable.\n",
    "\n",
    "Understanding variable scope is crucial for writing maintainable and bug-free code, as it helps prevent unintended side effects and makes it clear where variables are intended to be used."
   ]
  },
  {
   "cell_type": "markdown",
   "id": "34acfbb6-55e8-4322-afaf-57db45328571",
   "metadata": {},
   "source": [
    "3. Write a Python program that demonstrates the use of global variables within functions.\n"
   ]
  },
  {
   "cell_type": "code",
   "execution_count": 4,
   "id": "611b2916-f01b-4911-9964-40d2f35fec60",
   "metadata": {},
   "outputs": [
    {
     "name": "stdout",
     "output_type": "stream",
     "text": [
      "Initial global variable: 10\n",
      "Global variable: 15\n",
      "Modified global variable: 15\n"
     ]
    }
   ],
   "source": [
    "# Global variable\n",
    "global_variable = 10\n",
    "\n",
    "def increment_global():\n",
    "    # Accessing and modifying the global variable within the function\n",
    "    global global_variable\n",
    "    global_variable += 5\n",
    "\n",
    "def print_global():\n",
    "    # Accessing the global variable within another function\n",
    "    print(\"Global variable:\", global_variable)\n",
    "\n",
    "# Initial value of the global variable\n",
    "print(\"Initial global variable:\", global_variable)\n",
    "\n",
    "# Call the function to increment the global variable\n",
    "increment_global()\n",
    "\n",
    "# Call another function to print the global variable\n",
    "print_global()\n",
    "\n",
    "# The global variable has been modified within the function\n",
    "print(\"Modified global variable:\", global_variable)\n"
   ]
  },
  {
   "cell_type": "markdown",
   "id": "4f236c59-5a6a-4c30-8548-c206f7c43fa4",
   "metadata": {},
   "source": [
    "4. Create a Python function that calculates the factorial of a number and returns it.\n"
   ]
  },
  {
   "cell_type": "code",
   "execution_count": 5,
   "id": "09b27901-f970-47de-b8d8-e73ad24cc2df",
   "metadata": {},
   "outputs": [
    {
     "name": "stdout",
     "output_type": "stream",
     "text": [
      "Factorial of 5: 120\n"
     ]
    }
   ],
   "source": [
    "def factorial(n):\n",
    "    \"\"\"\n",
    "    Calculate the factorial of a given number.\n",
    "\n",
    "    Parameters:\n",
    "    - n (int): The number for which to calculate the factorial.\n",
    "\n",
    "    Returns:\n",
    "    - int: The factorial of the input number.\n",
    "    \"\"\"\n",
    "    if n == 0 or n == 1:\n",
    "        return 1\n",
    "    else:\n",
    "        return n * factorial(n - 1)\n",
    "\n",
    "# Example: Calculate the factorial of 5\n",
    "result = factorial(5)\n",
    "print(\"Factorial of 5:\", result)\n"
   ]
  },
  {
   "cell_type": "markdown",
   "id": "4e9a999b-3bb4-441f-bdc4-876a6d5f5234",
   "metadata": {},
   "source": [
    "5. How can you access variables defined outside a function from within the function?\n"
   ]
  },
  {
   "cell_type": "markdown",
   "id": "1cadd6eb-2332-487f-9513-8e0fc2110e2a",
   "metadata": {},
   "source": [
    "In Python, you can access variables defined outside a function from within the function by default. These variables are considered global variables, and they are accessible throughout the entire program, including within functions. Here's an example:"
   ]
  },
  {
   "cell_type": "code",
   "execution_count": 6,
   "id": "d39eb405-9a17-498d-b697-12dd2caaa086",
   "metadata": {},
   "outputs": [
    {
     "name": "stdout",
     "output_type": "stream",
     "text": [
      "Inside the function: 42\n",
      "Outside the function: 42\n"
     ]
    }
   ],
   "source": [
    "# Global variable\n",
    "global_variable = 42\n",
    "\n",
    "def access_global_variable():\n",
    "    # Accessing the global variable within the function\n",
    "    print(\"Inside the function:\", global_variable)\n",
    "\n",
    "# Call the function\n",
    "access_global_variable()\n",
    "\n",
    "# Accessing the global variable outside the function\n",
    "print(\"Outside the function:\", global_variable)\n"
   ]
  },
  {
   "cell_type": "markdown",
   "id": "69b6e303-7747-4500-95a2-36a8a3074a13",
   "metadata": {},
   "source": [
    "In this example, global_variable is defined outside the function access_global_variable. When the function is called, it can access and print the value of the global variable without any special keyword or declaration."
   ]
  },
  {
   "cell_type": "markdown",
   "id": "a20681f3-9a52-423e-9b9c-610e2b5115ed",
   "metadata": {},
   "source": [
    "It's important to note that while you can access global variables within functions, if you intend to modify a global variable inside a function, you need to use the global keyword, as shown in the following example:"
   ]
  },
  {
   "cell_type": "code",
   "execution_count": 7,
   "id": "455a6c14-4e77-4558-a214-e9f120aa4c81",
   "metadata": {},
   "outputs": [
    {
     "name": "stdout",
     "output_type": "stream",
     "text": [
      "Modified global variable: 52\n"
     ]
    }
   ],
   "source": [
    "# Global variable\n",
    "global_variable = 42\n",
    "\n",
    "def modify_global_variable():\n",
    "    # Modifying the global variable within the function\n",
    "    global global_variable\n",
    "    global_variable += 10\n",
    "\n",
    "# Call the function to modify the global variable\n",
    "modify_global_variable()\n",
    "\n",
    "# Accessing the modified global variable outside the function\n",
    "print(\"Modified global variable:\", global_variable)\n"
   ]
  },
  {
   "cell_type": "markdown",
   "id": "495ed6ee-442d-4707-8ba9-7ed45db461f3",
   "metadata": {},
   "source": [
    "Using the global keyword signals to Python that you want to modify the global variable within the function rather than creating a new local variable with the same name."
   ]
  },
  {
   "cell_type": "markdown",
   "id": "1fe982e3-bac0-4b4d-a681-f050e62a5ba7",
   "metadata": {},
   "source": [
    "Lambda Functions and Higher-Order Functions:\n",
    "\n",
    "1. What are lambda functions in Python, and when are they typically used?\n"
   ]
  },
  {
   "cell_type": "markdown",
   "id": "66a21b5a-b9e4-44d1-9047-f1680b45b0c6",
   "metadata": {},
   "source": [
    "In Python, a lambda function is a small anonymous function defined using the lambda keyword. Lambda functions are also known as anonymous functions because they don't have a name like a regular function defined with the def keyword. The general syntax of a lambda function is:"
   ]
  },
  {
   "cell_type": "code",
   "execution_count": 8,
   "id": "1ef90528-31c3-471b-952d-32e180a27885",
   "metadata": {},
   "outputs": [
    {
     "data": {
      "text/plain": [
       "<function __main__.<lambda>(arguments)>"
      ]
     },
     "execution_count": 8,
     "metadata": {},
     "output_type": "execute_result"
    }
   ],
   "source": [
    "lambda arguments: expression\n"
   ]
  },
  {
   "cell_type": "markdown",
   "id": "183db038-07c7-48ec-abe3-a703cbf20990",
   "metadata": {},
   "source": [
    "Lambda functions are typically used in situations where a small, one-time-use function is needed for a short period. Here are some common use cases for lambda functions:"
   ]
  },
  {
   "cell_type": "markdown",
   "id": "53defadc-a978-4fdb-965e-753f0eb9cdc9",
   "metadata": {},
   "source": [
    "1. Short-lived Functions:\n",
    "\n",
    "Lambda functions are often used for short, simple operations where defining a full function using def would be overkill.\n",
    "They are useful when you need a quick function for a specific task, and you don't want to go through the process of defining a full function."
   ]
  },
  {
   "cell_type": "code",
   "execution_count": 9,
   "id": "3a4cffa4-dabf-4bfe-95ab-b2c2b67cbbf6",
   "metadata": {},
   "outputs": [],
   "source": [
    "# Regular function\n",
    "def add(x, y):\n",
    "    return x + y\n",
    "\n",
    "# Equivalent lambda function\n",
    "add_lambda = lambda x, y: x + y\n"
   ]
  },
  {
   "cell_type": "markdown",
   "id": "70e74ed7-7ec6-4a85-9413-27f0de892043",
   "metadata": {},
   "source": [
    "2. Functional Programming:\n",
    "\n",
    "Lambda functions are commonly used in functional programming constructs such as map, filter, and reduce.\n",
    "They allow you to pass a function as an argument to higher-order functions."
   ]
  },
  {
   "cell_type": "code",
   "execution_count": 10,
   "id": "a77cfcdc-c12f-42f9-a0dd-17e059004e34",
   "metadata": {},
   "outputs": [],
   "source": [
    "# Using lambda with map\n",
    "numbers = [1, 2, 3, 4, 5]\n",
    "squared = list(map(lambda x: x**2, numbers))\n"
   ]
  },
  {
   "cell_type": "markdown",
   "id": "15d7fa9c-d0d8-4a46-b546-cee1431b2d7d",
   "metadata": {},
   "source": [
    "3. Sorting:\n",
    "\n",
    "Lambda functions are often used as the key function in sorting operations.\n",
    "They allow you to customize the sorting criteria without defining a separate function."
   ]
  },
  {
   "cell_type": "code",
   "execution_count": 11,
   "id": "2c7812c4-cb1c-46a1-b1c1-47e6eabcabdb",
   "metadata": {},
   "outputs": [],
   "source": [
    "# Sorting a list of tuples based on the second element\n",
    "pairs = [(1, 2), (3, 1), (4, 0)]\n",
    "sorted_pairs = sorted(pairs, key=lambda x: x[1])\n"
   ]
  },
  {
   "cell_type": "markdown",
   "id": "c12fd249-92a6-465e-8468-4e87d02a94c1",
   "metadata": {},
   "source": [
    "4. Event Handlers and Callbacks:\n",
    "\n",
    "Lambda functions are sometimes used as quick event handlers or callbacks in GUI programming and asynchronous programming."
   ]
  },
  {
   "cell_type": "code",
   "execution_count": null,
   "id": "91e4ec8c-4d43-4a44-9a3d-d78340ca530a",
   "metadata": {},
   "outputs": [],
   "source": [
    "# Using lambda as an event handler in Tkinter\n",
    "import tkinter as tk\n",
    "\n",
    "root = tk.Tk()\n",
    "button = tk.Button(root, text=\"Click me\", command=lambda: print(\"Button clicked\"))\n"
   ]
  },
  {
   "cell_type": "markdown",
   "id": "2e06b6a8-8c1f-451e-ba9a-cfd0b55299c7",
   "metadata": {},
   "source": [
    "While lambda functions are convenient for certain scenarios, it's important to note that they are limited in terms of readability and expressiveness compared to named functions. For more complex logic, it's often better to use a regular named function."
   ]
  },
  {
   "cell_type": "markdown",
   "id": "06af5191-5017-4fcd-ba63-25331c07a5ac",
   "metadata": {},
   "source": [
    "2. Write a Python program that uses lambda functions to sort a list of tuples based on the second element.\n"
   ]
  },
  {
   "cell_type": "code",
   "execution_count": 13,
   "id": "3aa06424-155a-4db9-b87b-1620b460f378",
   "metadata": {},
   "outputs": [
    {
     "name": "stdout",
     "output_type": "stream",
     "text": [
      "Original list: [(1, 4), (3, 1), (2, 7), (4, 2)]\n",
      "Sorted list based on the second element: [(3, 1), (4, 2), (1, 4), (2, 7)]\n"
     ]
    }
   ],
   "source": [
    "# List of tuples\n",
    "pairs = [(1, 4), (3, 1), (2, 7), (4, 2)]\n",
    "\n",
    "# Sorting the list of tuples based on the second element\n",
    "sorted_pairs = sorted(pairs, key=lambda x: x[1])\n",
    "\n",
    "# Display the sorted list\n",
    "print(\"Original list:\", pairs)\n",
    "print(\"Sorted list based on the second element:\", sorted_pairs)\n"
   ]
  },
  {
   "cell_type": "markdown",
   "id": "c8be5311-154b-4584-8bde-4957aa8ca965",
   "metadata": {},
   "source": [
    "3. Explain the concept of higher-order functions in Python, and provide an example.\n"
   ]
  },
  {
   "cell_type": "markdown",
   "id": "57a86de8-141b-4675-9296-e39fdbc72b00",
   "metadata": {},
   "source": [
    "In Python, a higher-order function is a function that takes one or more functions as arguments or returns a function as its result. Essentially, a higher-order function treats functions as first-class citizens, allowing them to be passed around and manipulated just like any other data type. This concept is closely associated with functional programming.\n",
    "\n",
    "Here's a breakdown of the key ideas:\n",
    "\n",
    "Functions as Arguments:\n",
    "\n",
    "A higher-order function can take one or more functions as parameters.\n",
    "This allows you to pass behavior to a function, making it more flexible and customizable.\n",
    "Functions as Return Values:\n",
    "\n",
    "A higher-order function can also return a function as its result.\n",
    "This allows you to create and return functions on the fly, tailoring behavior based on the context.\n",
    "Examples of Higher-Order Functions:\n",
    "\n",
    "Common higher-order functions in Python include map(), filter(), and sorted().\n",
    "Functions like map() apply a given function to each item in an iterable, while filter() returns items from an iterable for which a function returns true.\n",
    "Functions like sorted() allow you to specify a custom sorting function.\n",
    "Here's a simple example demonstrating the concept of a higher-order function using map():"
   ]
  },
  {
   "cell_type": "code",
   "execution_count": 16,
   "id": "1d2627c9-199b-4c70-83e2-f4015b20d9e2",
   "metadata": {},
   "outputs": [
    {
     "name": "stdout",
     "output_type": "stream",
     "text": [
      "Original numbers: [1, 2, 3, 4, 5]\n",
      "Squared numbers: [1, 4, 9, 16, 25]\n"
     ]
    }
   ],
   "source": [
    "# Higher-order function: map()\n",
    "def square(x):\n",
    "    return x**2\n",
    "\n",
    "numbers = [1, 2, 3, 4, 5]\n",
    "\n",
    "# Using map() to apply the square function to each element in the list\n",
    "squared_numbers = map(square, numbers)\n",
    "\n",
    "# Converting the result to a list for display\n",
    "squared_numbers_list = list(squared_numbers)\n",
    "\n",
    "# Display the original and squared lists\n",
    "print(\"Original numbers:\", numbers)\n",
    "print(\"Squared numbers:\", squared_numbers_list)\n"
   ]
  },
  {
   "cell_type": "markdown",
   "id": "af888041-7a1f-49ac-b1fd-fa6bf5091a24",
   "metadata": {},
   "source": [
    "In this example, map() is a higher-order function because it takes the function square as an argument and applies it to each element in the numbers list. The result is a new iterable with the squared values."
   ]
  },
  {
   "cell_type": "markdown",
   "id": "328863f6-2af9-4773-9c9d-eb3b0d31eea1",
   "metadata": {},
   "source": [
    "4. Create a Python function that takes a list of numbers and a function as arguments, applying the function to each element in the list.\n"
   ]
  },
  {
   "cell_type": "code",
   "execution_count": 17,
   "id": "b8dcd123-0535-497b-b8ac-dad54797e62c",
   "metadata": {},
   "outputs": [
    {
     "name": "stdout",
     "output_type": "stream",
     "text": [
      "Original numbers: [1, 2, 3, 4, 5]\n",
      "Squared numbers: [1, 4, 9, 16, 25]\n"
     ]
    }
   ],
   "source": [
    "def apply_function_to_list(numbers, func):\n",
    "    \"\"\"\n",
    "    Apply a given function to each element in the list.\n",
    "\n",
    "    Parameters:\n",
    "    - numbers (list): List of numbers.\n",
    "    - func (function): The function to apply to each element.\n",
    "\n",
    "    Returns:\n",
    "    - list: List of results after applying the function to each element.\n",
    "    \"\"\"\n",
    "    return [func(x) for x in numbers]\n",
    "\n",
    "# Example usage:\n",
    "numbers = [1, 2, 3, 4, 5]\n",
    "\n",
    "# Define a function (e.g., square) to be applied\n",
    "def square(x):\n",
    "    return x**2\n",
    "\n",
    "# Apply the square function to each element in the list\n",
    "result = apply_function_to_list(numbers, square)\n",
    "\n",
    "# Display the original list and the result\n",
    "print(\"Original numbers:\", numbers)\n",
    "print(\"Squared numbers:\", result)\n"
   ]
  },
  {
   "cell_type": "markdown",
   "id": "aa16e6a2-d8b9-4097-bc63-93169cf5c8ae",
   "metadata": {},
   "source": [
    "Built-in Functions:\n",
    "\n",
    "1. Describe the role of built-in functions like `len()`, `max()`, and `min()` in Python.\n"
   ]
  },
  {
   "cell_type": "markdown",
   "id": "ae1cdbd5-7091-4010-9e5a-fe000d4c8980",
   "metadata": {},
   "source": [
    "Built-in functions like len(), max(), and min() in Python are essential tools that provide convenient ways to perform common operations on data structures. Here's a brief description of each:"
   ]
  },
  {
   "cell_type": "markdown",
   "id": "5c52b3f7-a5ad-493d-abe3-2272df6e5342",
   "metadata": {},
   "source": [
    "1.len(iterable) Function:\n",
    "\n",
    "The len() function is used to get the length (number of items) of an iterable, such as a string, list, tuple, dictionary, etc.\n",
    "It returns the number of elements in the iterable."
   ]
  },
  {
   "cell_type": "code",
   "execution_count": 18,
   "id": "de72e54d-f6c3-42d8-87e1-dcca5043b313",
   "metadata": {},
   "outputs": [
    {
     "name": "stdout",
     "output_type": "stream",
     "text": [
      "Length of the list: 5\n"
     ]
    }
   ],
   "source": [
    "my_list = [1, 2, 3, 4, 5]\n",
    "length_of_list = len(my_list)\n",
    "print(\"Length of the list:\", length_of_list)\n"
   ]
  },
  {
   "cell_type": "markdown",
   "id": "edb6daab-4756-41f2-a77c-cec8828de221",
   "metadata": {},
   "source": [
    "2. max(iterable, *args, key) Function:\n",
    "\n",
    "The max() function is used to find the maximum value in an iterable or the maximum of two or more arguments.\n",
    "It can also take an optional key argument, which is a function that is applied to each element before comparison."
   ]
  },
  {
   "cell_type": "code",
   "execution_count": 19,
   "id": "b6806e79-207b-4d16-a70b-7e87f3fcc55b",
   "metadata": {},
   "outputs": [
    {
     "name": "stdout",
     "output_type": "stream",
     "text": [
      "Maximum value in the list: 9\n"
     ]
    }
   ],
   "source": [
    "numbers = [3, 1, 4, 1, 5, 9, 2, 6, 5, 3]\n",
    "maximum_value = max(numbers)\n",
    "print(\"Maximum value in the list:\", maximum_value)\n"
   ]
  },
  {
   "cell_type": "markdown",
   "id": "e342ba03-ac5e-45cf-a9ca-29fd51e9ba9d",
   "metadata": {},
   "source": [
    "3. min(iterable, *args, key) Function:\n",
    "\n",
    "The min() function is similar to max() but finds the minimum value in an iterable or the minimum of two or more arguments.\n",
    "Like max(), it can also take an optional key argument."
   ]
  },
  {
   "cell_type": "code",
   "execution_count": 20,
   "id": "738be903-cac9-425e-9b76-69e9459e5539",
   "metadata": {},
   "outputs": [
    {
     "name": "stdout",
     "output_type": "stream",
     "text": [
      "Minimum value in the list: 1\n"
     ]
    }
   ],
   "source": [
    "numbers = [3, 1, 4, 1, 5, 9, 2, 6, 5, 3]\n",
    "minimum_value = min(numbers)\n",
    "print(\"Minimum value in the list:\", minimum_value)\n"
   ]
  },
  {
   "cell_type": "markdown",
   "id": "43286ad6-c7c8-48eb-84b9-b31e373b2fa3",
   "metadata": {},
   "source": [
    "These built-in functions are widely used for various purposes, and their simplicity and efficiency make them valuable for everyday programming tasks. They help streamline code and make it more readable by providing concise ways to perform common operations. Additionally, their versatility, especially when combined with the key argument, allows for customization based on specific needs."
   ]
  },
  {
   "cell_type": "markdown",
   "id": "b8b2a2e7-60e4-4389-a00f-7ca35268105a",
   "metadata": {},
   "source": [
    "2. Write a Python program that uses the `map()` function to apply a function to each element of a list."
   ]
  },
  {
   "cell_type": "code",
   "execution_count": 21,
   "id": "f02b4892-1830-4d57-ad81-15415901d2f2",
   "metadata": {},
   "outputs": [
    {
     "name": "stdout",
     "output_type": "stream",
     "text": [
      "Original numbers: [1, 2, 3, 4, 5]\n",
      "Squared numbers: [1, 4, 9, 16, 25]\n"
     ]
    }
   ],
   "source": [
    "# Function to square a number\n",
    "def square(x):\n",
    "    return x**2\n",
    "\n",
    "# List of numbers\n",
    "numbers = [1, 2, 3, 4, 5]\n",
    "\n",
    "# Using map() to apply the square function to each element in the list\n",
    "squared_numbers = map(square, numbers)\n",
    "\n",
    "# Converting the result to a list for display\n",
    "squared_numbers_list = list(squared_numbers)\n",
    "\n",
    "# Display the original and squared lists\n",
    "print(\"Original numbers:\", numbers)\n",
    "print(\"Squared numbers:\", squared_numbers_list)\n"
   ]
  },
  {
   "cell_type": "markdown",
   "id": "15403bb2-175e-4a6e-bb9a-733847ef300f",
   "metadata": {},
   "source": [
    "3. How does the `filter()` function work in Python, and when would you use it?\n"
   ]
  },
  {
   "cell_type": "code",
   "execution_count": 22,
   "id": "f25f812a-4dc0-44b2-b419-afbca1bdac5f",
   "metadata": {},
   "outputs": [
    {
     "name": "stdout",
     "output_type": "stream",
     "text": [
      "Original numbers: [1, 2, 3, 4, 5, 6, 7, 8, 9, 10]\n",
      "Even numbers: [2, 4, 6, 8, 10]\n"
     ]
    }
   ],
   "source": [
    "# Function to check if a number is even\n",
    "def is_even(x):\n",
    "    return x % 2 == 0\n",
    "\n",
    "# List of numbers\n",
    "numbers = [1, 2, 3, 4, 5, 6, 7, 8, 9, 10]\n",
    "\n",
    "# Using filter() to get only the even numbers\n",
    "even_numbers = filter(is_even, numbers)\n",
    "\n",
    "# Converting the result to a list for display\n",
    "even_numbers_list = list(even_numbers)\n",
    "\n",
    "# Display the original and filtered lists\n",
    "print(\"Original numbers:\", numbers)\n",
    "print(\"Even numbers:\", even_numbers_list)\n"
   ]
  },
  {
   "cell_type": "markdown",
   "id": "5aab656b-009a-414c-bd22-95c71925fed0",
   "metadata": {},
   "source": [
    "4. Create a Python program that uses the `reduce()` function to find the product of all elements in a list."
   ]
  },
  {
   "cell_type": "code",
   "execution_count": 23,
   "id": "1643f012-0bb2-4674-9b58-f44ddde3f5b3",
   "metadata": {},
   "outputs": [
    {
     "name": "stdout",
     "output_type": "stream",
     "text": [
      "Original numbers: [1, 2, 3, 4, 5]\n",
      "Product of all numbers: 120\n"
     ]
    }
   ],
   "source": [
    "from functools import reduce\n",
    "\n",
    "# Function to calculate the product of two numbers\n",
    "def multiply(x, y):\n",
    "    return x * y\n",
    "\n",
    "# List of numbers\n",
    "numbers = [1, 2, 3, 4, 5]\n",
    "\n",
    "# Using reduce() to find the product of all elements in the list\n",
    "product = reduce(multiply, numbers)\n",
    "\n",
    "# Display the original list and the product\n",
    "print(\"Original numbers:\", numbers)\n",
    "print(\"Product of all numbers:\", product)\n"
   ]
  },
  {
   "cell_type": "markdown",
   "id": "e5159e7b-8ee8-4c76-82df-ad257b690f03",
   "metadata": {},
   "source": [
    "Function Documentation and Best Practices:\n",
    "\n",
    "1. Explain the purpose of docstrings in Python functions and how to write them.\n"
   ]
  },
  {
   "cell_type": "markdown",
   "id": "a3ad4021-e6dc-4d6e-aceb-ef0278c2d75a",
   "metadata": {},
   "source": [
    "Docstrings, or documentation strings, in Python serve the purpose of providing documentation for functions, modules, classes, or methods. They are a form of inline documentation that helps developers understand the purpose, usage, and expected behavior of the code. Properly documented code is easier to maintain, understand, and use, especially when shared with others.\n",
    "\n",
    "Here's how to write docstrings in Python functions:\n",
    "\n",
    "Function Docstring Format:\n",
    "\n",
    "A docstring is a string literal that occurs as the first statement in a module, function, class, or method definition.\n",
    "It is enclosed in triple quotes (single or double).\n",
    "The basic format for a function docstring includes a brief description, parameters (if any), and the return value (if applicable)."
   ]
  },
  {
   "cell_type": "markdown",
   "id": "f023799b-ac18-49bf-aa6b-7fc33c4c92d1",
   "metadata": {},
   "source": [
    "2. Example of a Function Docstring:"
   ]
  },
  {
   "cell_type": "code",
   "execution_count": null,
   "id": "777f063b-de0b-4ce4-9525-edef644d1f89",
   "metadata": {},
   "outputs": [],
   "source": [
    "def add(x, y):\n",
    "    \"\"\"\n",
    "    Add two numbers.\n",
    "\n",
    "    Parameters:\n",
    "    - x (int): The first number.\n",
    "    - y (int): The second number.\n",
    "\n",
    "    Returns:\n",
    "    - int: The sum of the two numbers.\n",
    "    \"\"\"\n",
    "    return x + y\n"
   ]
  },
  {
   "cell_type": "markdown",
   "id": "8edaa21e-3512-4413-b06a-d5faafce5a3c",
   "metadata": {},
   "source": [
    "3.Writing Guidelines:\n",
    "\n",
    "Be concise: Focus on providing essential information.\n",
    "Follow the Google-style or reStructuredText format for consistency.\n",
    "Include information about parameters, return values, exceptions (if any), and usage examples.\n",
    "Use clear and readable language.\n",
    "\n",
    "\n",
    " 4. Accessing Docstrings:\n",
    "\n",
    "You can access the docstring of a function using the __doc__ attribute."
   ]
  },
  {
   "cell_type": "code",
   "execution_count": null,
   "id": "6f777f7d-7fb6-4e9e-bc03-1c42a56569ad",
   "metadata": {},
   "outputs": [],
   "source": [
    "print(add.__doc__)\n"
   ]
  },
  {
   "cell_type": "markdown",
   "id": "ef9f7099-c4b3-49e6-9efd-fc349185ce8a",
   "metadata": {},
   "source": [
    "Many tools and libraries, such as Sphinx and IDEs like PyCharm, use docstrings to generate documentation or provide code suggestions.\n",
    "Here's a more detailed example with a function and a module-level docstring:"
   ]
  },
  {
   "cell_type": "code",
   "execution_count": null,
   "id": "5033546d-b1aa-4541-9dca-0f017ea8b6ac",
   "metadata": {},
   "outputs": [],
   "source": [
    "def calculate_area(radius):\n",
    "    \"\"\"\n",
    "    Calculate the area of a circle.\n",
    "\n",
    "    Parameters:\n",
    "    - radius (float): The radius of the circle.\n",
    "\n",
    "    Returns:\n",
    "    - float: The area of the circle.\n",
    "    \"\"\"\n",
    "    pi = 3.14159\n",
    "    return pi * radius**2\n",
    "\n",
    "def main():\n",
    "    \"\"\"\n",
    "    This is a sample module demonstrating the use of docstrings.\n",
    "\n",
    "    Functions:\n",
    "    - calculate_area: Calculates the area of a circle.\n",
    "\n",
    "    Usage:\n",
    "    - Call calculate_area() with a radius to get the area.\n",
    "\n",
    "    Example:\n",
    "    ```\n",
    "    radius = 5\n",
    "    area = calculate_area(radius)\n",
    "    print(\"Area of the circle:\", area)\n",
    "    ```\n",
    "    \"\"\"\n",
    "    radius = 5\n",
    "    area = calculate_area(radius)\n",
    "    print(\"Area of the circle:\", area)\n",
    "\n",
    "if __name__ == \"__main__\":\n",
    "    main()\n"
   ]
  },
  {
   "cell_type": "markdown",
   "id": "1b98e4d8-f223-4132-9ce6-7864124e822f",
   "metadata": {},
   "source": [
    "When writing docstrings, keep in mind that they serve as a form of self-documentation, making it easier for others (or even yourself) to understand and use your code."
   ]
  },
  {
   "cell_type": "markdown",
   "id": "fc168121-16e9-42e2-ad58-82b656e39be8",
   "metadata": {},
   "source": [
    "2. Describe some best practices for naming functions and variables in Python, including naming conventions and guidelines.\n"
   ]
  },
  {
   "cell_type": "markdown",
   "id": "3964642b-91d9-460e-922d-607724a56912",
   "metadata": {},
   "source": [
    "Naming conventions and guidelines in Python are essential for writing code that is readable, maintainable, and follows community standards. Here are some best practices for naming functions and variables:\n",
    "\n",
    "Functions:"
   ]
  },
  {
   "cell_type": "markdown",
   "id": "fc2c7459-ea9a-48fa-98b5-1f98c74462be",
   "metadata": {},
   "source": [
    "1. Use Descriptive Names:\n",
    "\n",
    "Choose names that clearly indicate the purpose or action of the function.\n",
    "Make function names verbs or verb phrases."
   ]
  },
  {
   "cell_type": "code",
   "execution_count": null,
   "id": "0d648a32-f931-4227-b660-2f27f3fddc44",
   "metadata": {},
   "outputs": [],
   "source": [
    "# Good\n",
    "def calculate_area(radius):\n",
    "    pass\n",
    "\n",
    "# Avoid\n",
    "def rad():\n",
    "    pass\n"
   ]
  },
  {
   "cell_type": "markdown",
   "id": "fabfae14-da77-43f4-a165-4206ef07fa3c",
   "metadata": {},
   "source": [
    "2. Follow Snake Case:\n",
    "\n",
    "Use lowercase letters with underscores to separate words in function names.\n",
    "This is known as snake_case in Python."
   ]
  },
  {
   "cell_type": "code",
   "execution_count": null,
   "id": "f0f87687-8468-4819-b4af-6c9fe9e61c11",
   "metadata": {},
   "outputs": [],
   "source": [
    "# Good\n",
    "def calculate_area_of_circle(radius):\n",
    "    pass\n",
    "\n",
    "# Avoid\n",
    "def calculateAreaOfCircle(radius):\n",
    "    pass\n"
   ]
  },
  {
   "cell_type": "markdown",
   "id": "04ebd5d3-4bd1-4f52-b92b-7caa2ff82434",
   "metadata": {},
   "source": [
    "3.Be Consistent:\n",
    "\n",
    "Stick to a consistent naming style throughout your codebase.\n",
    "Consistency enhances readability and makes your code more maintainable."
   ]
  },
  {
   "cell_type": "code",
   "execution_count": null,
   "id": "57fcda16-f391-4db2-9771-5804b7ed0f42",
   "metadata": {},
   "outputs": [],
   "source": [
    "# Good\n",
    "def calculate_area_of_circle(radius):\n",
    "    pass\n",
    "\n",
    "# Good\n",
    "def calculate_volume_of_sphere(radius):\n",
    "    pass\n",
    "\n",
    "# Avoid\n",
    "def calculateAreaOfCircle(radius):\n",
    "    pass\n"
   ]
  },
  {
   "cell_type": "markdown",
   "id": "c9fac59e-1309-4fcc-9e86-d7387410bf08",
   "metadata": {},
   "source": [
    "Variables:\n",
    "1.Use Descriptive and Concise Names:\n",
    "\n",
    "Choose variable names that are both descriptive and concise.\n",
    "The name should convey the purpose or content of the variable."
   ]
  },
  {
   "cell_type": "markdown",
   "id": "c82825d2-d485-4a7b-bcce-38700c504d16",
   "metadata": {},
   "source": [
    "Naming conventions and guidelines in Python are essential for writing code that is readable, maintainable, and follows community standards.\n",
    "\n",
    "Here are some best practices for naming functions and variables:\n",
    "\n",
    "Functions:\n",
    "Use Descriptive Names:\n",
    "\n",
    "Choose names that clearly indicate the purpose or action of the function.\n",
    "Make function names verbs or verb phrases."
   ]
  },
  {
   "cell_type": "code",
   "execution_count": 1,
   "id": "6c3f07fc-ede9-42d6-8527-3a7f670e8c67",
   "metadata": {},
   "outputs": [],
   "source": [
    "# Good\n",
    "def calculate_area(radius):\n",
    "    pass\n",
    "\n",
    "# Avoid\n",
    "def rad():\n",
    "    pass\n"
   ]
  },
  {
   "cell_type": "markdown",
   "id": "c6b1273d-834b-4fc2-8335-f2874e2b36db",
   "metadata": {},
   "source": [
    "2. Follow Snake Case:\n",
    "\n",
    "Use lowercase letters with underscores to separate words in function names.\n",
    "This is known as snake_case in Python."
   ]
  },
  {
   "cell_type": "code",
   "execution_count": 2,
   "id": "c4d5dd3e-026d-4afa-b3f2-e135ac67f148",
   "metadata": {},
   "outputs": [],
   "source": [
    "# Good\n",
    "def calculate_area_of_circle(radius):\n",
    "    pass\n",
    "\n",
    "# Avoid\n",
    "def calculateAreaOfCircle(radius):\n",
    "    pass\n"
   ]
  },
  {
   "cell_type": "markdown",
   "id": "6e1c602c-a563-4da6-b06c-e6e6f2d65b4c",
   "metadata": {},
   "source": [
    "3. Be Consistent:\n",
    "\n",
    "Stick to a consistent naming style throughout your codebase.\n",
    "Consistency enhances readability and makes your code more maintainable."
   ]
  },
  {
   "cell_type": "code",
   "execution_count": 3,
   "id": "a8ac3903-5005-444d-a83f-0aac82a87ed6",
   "metadata": {},
   "outputs": [],
   "source": [
    "# Good\n",
    "def calculate_area_of_circle(radius):\n",
    "    pass\n",
    "\n",
    "# Good\n",
    "def calculate_volume_of_sphere(radius):\n",
    "    pass\n",
    "\n",
    "# Avoid\n",
    "def calculateAreaOfCircle(radius):\n",
    "    pass\n"
   ]
  },
  {
   "cell_type": "markdown",
   "id": "87b06b67-b53b-40a3-beb0-d62461f5121d",
   "metadata": {},
   "source": [
    "Variables:\n",
    "    \n",
    "1. Use Descriptive and Concise Names:\n",
    "\n",
    "Choose variable names that are both descriptive and concise.\n",
    "The name should convey the purpose or content of the variable."
   ]
  },
  {
   "cell_type": "code",
   "execution_count": 4,
   "id": "ea833b7d-d6e6-437b-89f7-8f14e9e362a9",
   "metadata": {},
   "outputs": [],
   "source": [
    "# Good\n",
    "total_students = 100\n",
    "\n",
    "# Avoid\n",
    "x = 100\n"
   ]
  },
  {
   "cell_type": "markdown",
   "id": "373c2d3c-2e88-40e4-a411-278b2851876a",
   "metadata": {},
   "source": [
    "2. Follow Snake Case:\n",
    "\n",
    "Use lowercase letters with underscores for variable names.\n",
    "This is consistent with the naming conventions in Python."
   ]
  },
  {
   "cell_type": "code",
   "execution_count": 5,
   "id": "39f11e85-9f54-410e-8bad-13f740482789",
   "metadata": {},
   "outputs": [],
   "source": [
    "# Good\n",
    "total_students = 100\n",
    "\n",
    "# Avoid\n",
    "totalStudents = 100\n"
   ]
  },
  {
   "cell_type": "markdown",
   "id": "163322ed-08e5-46c8-9761-4c13e304ee99",
   "metadata": {},
   "source": [
    "3. Avoid Single-Letter Variable Names (in Most Cases):\n",
    "\n",
    "Use single-letter variable names (e.g., i, j) only for loop counters when their scope is limited and their purpose is clear."
   ]
  },
  {
   "cell_type": "code",
   "execution_count": 6,
   "id": "ea003337-b798-4f7f-b3cf-8a7cd484095a",
   "metadata": {},
   "outputs": [
    {
     "name": "stdout",
     "output_type": "stream",
     "text": [
      "0\n",
      "1\n",
      "2\n",
      "3\n",
      "4\n"
     ]
    }
   ],
   "source": [
    "# Good (limited scope)\n",
    "for i in range(5):\n",
    "    print(i)\n",
    "\n",
    "# Avoid (ambiguous)\n",
    "x = 5\n"
   ]
  },
  {
   "cell_type": "markdown",
   "id": "6b1a4d38-f3a0-4223-ba50-b5541f54f7e0",
   "metadata": {},
   "source": [
    "4. Be Mindful of Context:\n",
    "\n",
    "Choose names based on the variable's context and purpose within the code.\n",
    "\n",
    "Avoid generic names like data, temp, or value unless the context makes it clear."
   ]
  },
  {
   "cell_type": "code",
   "execution_count": 7,
   "id": "a384f919-e42a-4306-991c-66de1c796080",
   "metadata": {},
   "outputs": [],
   "source": [
    "# Good\n",
    "average_temperature = 25.5\n",
    "\n",
    "# Avoid\n",
    "value = 25.5\n"
   ]
  },
  {
   "cell_type": "markdown",
   "id": "d4cf795e-2b4b-4fa3-ac64-ac24d96f4a91",
   "metadata": {},
   "source": [
    "General Tips:\n",
    "1. Use Clear and Readable Names:\n",
    "\n",
    "Aim for names that are clear and easily readable by other developers.\n",
    "Avoid cryptic abbreviations or overly shortened names.\n",
    "2. Avoid Using Built-in Keywords:\n",
    "\n",
    "Avoid using names that conflict with Python's built-in keywords or functions."
   ]
  },
  {
   "cell_type": "code",
   "execution_count": 8,
   "id": "4187fe92-fd60-47f4-b88f-035b5d53b1e1",
   "metadata": {},
   "outputs": [],
   "source": [
    "# Avoid\n",
    "def print(message):\n",
    "    pass\n"
   ]
  },
  {
   "cell_type": "markdown",
   "id": "3abb775c-9a82-4124-bf38-cf0b0fd3522e",
   "metadata": {},
   "source": [
    "3. Follow PEP 8 Guidelines:\n",
    "\n",
    "Refer to the PEP 8 style guide for comprehensive recommendations on Python code style.\n",
    "Adhering to these best practices for naming functions and variables contributes to code clarity and maintainability. \n",
    "It makes your code more accessible to others and yourself in the future."
   ]
  },
  {
   "cell_type": "code",
   "execution_count": null,
   "id": "32c0660a-7176-4c89-8f42-119ff2d1152e",
   "metadata": {},
   "outputs": [],
   "source": []
  }
 ],
 "metadata": {
  "kernelspec": {
   "display_name": "Python 3 (ipykernel)",
   "language": "python",
   "name": "python3"
  },
  "language_info": {
   "codemirror_mode": {
    "name": "ipython",
    "version": 3
   },
   "file_extension": ".py",
   "mimetype": "text/x-python",
   "name": "python",
   "nbconvert_exporter": "python",
   "pygments_lexer": "ipython3",
   "version": "3.10.8"
  }
 },
 "nbformat": 4,
 "nbformat_minor": 5
}
